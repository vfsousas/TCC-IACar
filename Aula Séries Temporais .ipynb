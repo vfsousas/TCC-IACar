{
 "cells": [
  {
   "cell_type": "code",
   "execution_count": 1,
   "metadata": {},
   "outputs": [],
   "source": [
    "import pandas as pd"
   ]
  },
  {
   "cell_type": "code",
   "execution_count": 2,
   "metadata": {},
   "outputs": [
    {
     "name": "stdout",
     "output_type": "stream",
     "text": [
      "'Aula Séries Temporais .ipynb'   etanol_dataset.xlsx   IPCA.xlsx\r\n"
     ]
    }
   ],
   "source": [
    "ls"
   ]
  },
  {
   "cell_type": "code",
   "execution_count": 3,
   "metadata": {},
   "outputs": [
    {
     "data": {
      "text/html": [
       "<div>\n",
       "<style scoped>\n",
       "    .dataframe tbody tr th:only-of-type {\n",
       "        vertical-align: middle;\n",
       "    }\n",
       "\n",
       "    .dataframe tbody tr th {\n",
       "        vertical-align: top;\n",
       "    }\n",
       "\n",
       "    .dataframe thead th {\n",
       "        text-align: right;\n",
       "    }\n",
       "</style>\n",
       "<table border=\"1\" class=\"dataframe\">\n",
       "  <thead>\n",
       "    <tr style=\"text-align: right;\">\n",
       "      <th></th>\n",
       "      <th>Data</th>\n",
       "      <th>Preço</th>\n",
       "    </tr>\n",
       "  </thead>\n",
       "  <tbody>\n",
       "    <tr>\n",
       "      <th>0</th>\n",
       "      <td>29/11/2002</td>\n",
       "      <td>0,6842</td>\n",
       "    </tr>\n",
       "    <tr>\n",
       "      <th>1</th>\n",
       "      <td>06/12/2002</td>\n",
       "      <td>0,6897</td>\n",
       "    </tr>\n",
       "    <tr>\n",
       "      <th>2</th>\n",
       "      <td>13/12/2002</td>\n",
       "      <td>0,6926</td>\n",
       "    </tr>\n",
       "    <tr>\n",
       "      <th>3</th>\n",
       "      <td>20/12/2002</td>\n",
       "      <td>0,7065</td>\n",
       "    </tr>\n",
       "    <tr>\n",
       "      <th>4</th>\n",
       "      <td>27/12/2002</td>\n",
       "      <td>0,6941</td>\n",
       "    </tr>\n",
       "  </tbody>\n",
       "</table>\n",
       "</div>"
      ],
      "text/plain": [
       "         Data   Preço\n",
       "0  29/11/2002  0,6842\n",
       "1  06/12/2002  0,6897\n",
       "2  13/12/2002  0,6926\n",
       "3  20/12/2002  0,7065\n",
       "4  27/12/2002  0,6941"
      ]
     },
     "execution_count": 3,
     "metadata": {},
     "output_type": "execute_result"
    }
   ],
   "source": [
    "df = pd.read_excel('etanol_dataset.xlsx')\n",
    "df.head()"
   ]
  },
  {
   "cell_type": "code",
   "execution_count": 4,
   "metadata": {},
   "outputs": [
    {
     "name": "stderr",
     "output_type": "stream",
     "text": [
      "/home/arthurfortes/anaconda3/envs/py37/lib/python3.7/site-packages/ipykernel_launcher.py:4: UserWarning: Pandas doesn't allow columns to be created via a new attribute name - see https://pandas.pydata.org/pandas-docs/stable/indexing.html#attribute-access\n",
      "  after removing the cwd from sys.path.\n"
     ]
    },
    {
     "data": {
      "text/html": [
       "<div>\n",
       "<style scoped>\n",
       "    .dataframe tbody tr th:only-of-type {\n",
       "        vertical-align: middle;\n",
       "    }\n",
       "\n",
       "    .dataframe tbody tr th {\n",
       "        vertical-align: top;\n",
       "    }\n",
       "\n",
       "    .dataframe thead th {\n",
       "        text-align: right;\n",
       "    }\n",
       "</style>\n",
       "<table border=\"1\" class=\"dataframe\">\n",
       "  <thead>\n",
       "    <tr style=\"text-align: right;\">\n",
       "      <th></th>\n",
       "      <th>Preço</th>\n",
       "    </tr>\n",
       "    <tr>\n",
       "      <th>Data</th>\n",
       "      <th></th>\n",
       "    </tr>\n",
       "  </thead>\n",
       "  <tbody>\n",
       "    <tr>\n",
       "      <th>2002-11-29</th>\n",
       "      <td>684.2</td>\n",
       "    </tr>\n",
       "    <tr>\n",
       "      <th>2002-12-06</th>\n",
       "      <td>689.7</td>\n",
       "    </tr>\n",
       "    <tr>\n",
       "      <th>2002-12-13</th>\n",
       "      <td>692.6</td>\n",
       "    </tr>\n",
       "    <tr>\n",
       "      <th>2002-12-20</th>\n",
       "      <td>706.5</td>\n",
       "    </tr>\n",
       "    <tr>\n",
       "      <th>2002-12-27</th>\n",
       "      <td>694.1</td>\n",
       "    </tr>\n",
       "    <tr>\n",
       "      <th>2003-01-03</th>\n",
       "      <td>728.1</td>\n",
       "    </tr>\n",
       "    <tr>\n",
       "      <th>2003-01-10</th>\n",
       "      <td>792.7</td>\n",
       "    </tr>\n",
       "    <tr>\n",
       "      <th>2003-01-17</th>\n",
       "      <td>819.5</td>\n",
       "    </tr>\n",
       "    <tr>\n",
       "      <th>2003-01-24</th>\n",
       "      <td>861.0</td>\n",
       "    </tr>\n",
       "    <tr>\n",
       "      <th>2003-01-31</th>\n",
       "      <td>857.7</td>\n",
       "    </tr>\n",
       "  </tbody>\n",
       "</table>\n",
       "</div>"
      ],
      "text/plain": [
       "            Preço\n",
       "Data             \n",
       "2002-11-29  684.2\n",
       "2002-12-06  689.7\n",
       "2002-12-13  692.6\n",
       "2002-12-20  706.5\n",
       "2002-12-27  694.1\n",
       "2003-01-03  728.1\n",
       "2003-01-10  792.7\n",
       "2003-01-17  819.5\n",
       "2003-01-24  861.0\n",
       "2003-01-31  857.7"
      ]
     },
     "execution_count": 4,
     "metadata": {},
     "output_type": "execute_result"
    }
   ],
   "source": [
    "df['Data'] = pd.to_datetime(df['Data'], dayfirst=True)\n",
    "df.sort_values('Data')\n",
    "df.set_index('Data', inplace=True)\n",
    "df.colums = df['Preço']\n",
    "df['Preço'] = df['Preço'].apply(lambda x: float(x.replace(\",\", \".\")) * 1000)\n",
    "df.head()\n",
    "df.head(10)"
   ]
  },
  {
   "cell_type": "markdown",
   "metadata": {},
   "source": [
    "### Divisão Treino e Teste"
   ]
  },
  {
   "cell_type": "code",
   "execution_count": 5,
   "metadata": {},
   "outputs": [
    {
     "data": {
      "text/plain": [
       "(             Preço\n",
       " Data              \n",
       " 2020-07-17  1620.6\n",
       " 2020-07-24  1662.0\n",
       " 2020-07-31  1692.0\n",
       " 2020-08-07  1673.5\n",
       " 2020-08-14  1661.3,\n",
       " (925, 1))"
      ]
     },
     "execution_count": 5,
     "metadata": {},
     "output_type": "execute_result"
    }
   ],
   "source": [
    "df.tail(), df.shape"
   ]
  },
  {
   "cell_type": "code",
   "execution_count": 6,
   "metadata": {},
   "outputs": [],
   "source": [
    "# (52 semanas x 3 anos)\n",
    "semanas = 156\n",
    "\n",
    "train = df.iloc[:-semanas, 0:1].copy()\n",
    "test = df.iloc[-semanas:, 0:1].copy()"
   ]
  },
  {
   "cell_type": "markdown",
   "metadata": {},
   "source": [
    "### Plot dos conjuntos"
   ]
  },
  {
   "cell_type": "code",
   "execution_count": 7,
   "metadata": {},
   "outputs": [],
   "source": [
    "import matplotlib.pyplot as plt"
   ]
  },
  {
   "cell_type": "code",
   "execution_count": 8,
   "metadata": {},
   "outputs": [
    {
     "data": {
      "image/png": "[encoded data removed]",
      "text/plain": [
       "<Figure size 1080x360 with 1 Axes>"
      ]
     },
     "metadata": {
      "needs_background": "light"
     },
     "output_type": "display_data"
    }
   ],
   "source": [
    "plt.figure(figsize=(15, 5))\n",
    "plt.plot(train['Preço'], color='r')\n",
    "plt.plot(test['Preço'], color='b')\n",
    "plt.ylabel('Preço')\n",
    "plt.xlabel('Data')\n",
    "plt.show()"
   ]
  },
  {
   "cell_type": "markdown",
   "metadata": {},
   "source": [
    "### Tendêncida, Sazionalidade e Resíduo"
   ]
  },
  {
   "cell_type": "code",
   "execution_count": 9,
   "metadata": {},
   "outputs": [],
   "source": [
    "from statsmodels.tsa.seasonal import seasonal_decompose"
   ]
  },
  {
   "cell_type": "code",
   "execution_count": 10,
   "metadata": {},
   "outputs": [
    {
     "name": "stderr",
     "output_type": "stream",
     "text": [
      "/home/arthurfortes/anaconda3/envs/py37/lib/python3.7/site-packages/ipykernel_launcher.py:1: FutureWarning: the 'freq'' keyword is deprecated, use 'period' instead\n",
      "  \"\"\"Entry point for launching an IPython kernel.\n"
     ]
    },
    {
     "data": {
      "image/png": "[encoded data removed]",
      "text/plain": [
       "<Figure size 1296x576 with 4 Axes>"
      ]
     },
     "metadata": {
      "needs_background": "light"
     },
     "output_type": "display_data"
    }
   ],
   "source": [
    "temp = seasonal_decompose(train, freq=50)\n",
    "fig = temp.plot();\n",
    "fig.set_size_inches(18, 8);"
   ]
  },
  {
   "cell_type": "markdown",
   "metadata": {},
   "source": [
    "### Testes Estatísticos (DF e o KPSS)"
   ]
  },
  {
   "cell_type": "code",
   "execution_count": 11,
   "metadata": {},
   "outputs": [],
   "source": [
    "from statsmodels.tsa.stattools import kpss, adfuller"
   ]
  },
  {
   "cell_type": "code",
   "execution_count": 12,
   "metadata": {},
   "outputs": [
    {
     "data": {
      "text/plain": [
       "(769, 1)"
      ]
     },
     "execution_count": 12,
     "metadata": {},
     "output_type": "execute_result"
    }
   ],
   "source": [
    "train.shape"
   ]
  },
  {
   "cell_type": "markdown",
   "metadata": {},
   "source": [
    "#### Dickey Fuller"
   ]
  },
  {
   "cell_type": "code",
   "execution_count": 13,
   "metadata": {},
   "outputs": [
    {
     "data": {
      "text/plain": [
       "Teste Estatístico DF      -1.8551\n",
       "P-Value                    0.3535\n",
       "Lags Usados                6.0000\n",
       "Número de observações    762.0000\n",
       "VC (1%)                   -3.4390\n",
       "VC (5%)                   -2.8653\n",
       "VC (10%)                  -2.5688\n",
       "dtype: float64"
      ]
     },
     "execution_count": 13,
     "metadata": {},
     "output_type": "execute_result"
    }
   ],
   "source": [
    "df_test = adfuller(train['Preço'])\n",
    "df_test_opt = pd.Series(df_test[0:4], index=['Teste Estatístico DF', 'P-Value', \n",
    "                                        'Lags Usados', 'Número de observações'])\n",
    "df_test_opt = round(df_test_opt, 4)\n",
    "\n",
    "for key, value in df_test[4].items():\n",
    "    df_test_opt['VC (%s)'%key] = value.round(4)\n",
    "    \n",
    "df_test_opt"
   ]
  },
  {
   "cell_type": "markdown",
   "metadata": {},
   "source": [
    "### KPSS"
   ]
  },
  {
   "cell_type": "code",
   "execution_count": 14,
   "metadata": {},
   "outputs": [
    {
     "name": "stderr",
     "output_type": "stream",
     "text": [
      "/home/arthurfortes/anaconda3/envs/py37/lib/python3.7/site-packages/statsmodels/tsa/stattools.py:1661: FutureWarning: The behavior of using lags=None will change in the next release. Currently lags=None is the same as lags='legacy', and so a sample-size lag length is used. After the next release, the default will change to be the same as lags='auto' which uses an automatic lag length selection method. To silence this warning, either use 'auto' or 'legacy'\n",
      "  warn(msg, FutureWarning)\n",
      "/home/arthurfortes/anaconda3/envs/py37/lib/python3.7/site-packages/statsmodels/tsa/stattools.py:1685: InterpolationWarning: p-value is smaller than the indicated p-value\n",
      "  warn(\"p-value is smaller than the indicated p-value\", InterpolationWarning)\n"
     ]
    },
    {
     "data": {
      "text/plain": [
       "Teste Estatístico DF     2.9496\n",
       "P-Value                  0.0100\n",
       "Lags Usados             20.0000\n",
       "VC (10%)                 0.3470\n",
       "VC (5%)                  0.4630\n",
       "VC (2.5%)                0.5740\n",
       "VC (1%)                  0.7390\n",
       "dtype: float64"
      ]
     },
     "execution_count": 14,
     "metadata": {},
     "output_type": "execute_result"
    }
   ],
   "source": [
    "kpss_test = kpss(train['Preço'])\n",
    "kpss_test_opt = pd.Series(kpss_test[0:3], index=['Teste Estatístico DF', 'P-Value', \n",
    "                                        'Lags Usados'])\n",
    "kpss_test_opt = round(kpss_test_opt, 4)\n",
    "\n",
    "for key, value in kpss_test[3].items():\n",
    "    kpss_test_opt['VC (%s)'%key] = value\n",
    "\n",
    "kpss_test_opt"
   ]
  },
  {
   "cell_type": "markdown",
   "metadata": {},
   "source": [
    "### Tornando uma série estacionária"
   ]
  },
  {
   "cell_type": "markdown",
   "metadata": {},
   "source": [
    "Por periódo"
   ]
  },
  {
   "cell_type": "markdown",
   "metadata": {},
   "source": [
    "#### Diferenciação"
   ]
  },
  {
   "cell_type": "code",
   "execution_count": 15,
   "metadata": {},
   "outputs": [
    {
     "data": {
      "image/png": "[encoded data removed]",
      "text/plain": [
       "<Figure size 1296x360 with 1 Axes>"
      ]
     },
     "metadata": {
      "needs_background": "light"
     },
     "output_type": "display_data"
    }
   ],
   "source": [
    "train.loc[\"2015\":\"2016\"].plot(figsize=(18, 5));"
   ]
  },
  {
   "cell_type": "code",
   "execution_count": 16,
   "metadata": {},
   "outputs": [
    {
     "data": {
      "image/png": "[encoded data removed]",
      "text/plain": [
       "<Figure size 1296x360 with 1 Axes>"
      ]
     },
     "metadata": {
      "needs_background": "light"
     },
     "output_type": "display_data"
    }
   ],
   "source": [
    "train.loc[\"2015\":\"2016\"].diff().plot(figsize=(18, 5));"
   ]
  },
  {
   "cell_type": "code",
   "execution_count": 17,
   "metadata": {},
   "outputs": [
    {
     "data": {
      "text/plain": [
       "Teste Estatístico DF      -5.5269\n",
       "P-Value                    0.0000\n",
       "Lags Usados                0.0000\n",
       "Número de observações    103.0000\n",
       "VC (1%)                   -3.4955\n",
       "VC (5%)                   -2.8900\n",
       "VC (10%)                  -2.5820\n",
       "dtype: float64"
      ]
     },
     "execution_count": 17,
     "metadata": {},
     "output_type": "execute_result"
    }
   ],
   "source": [
    "obs_df = train.loc[\"2015\":\"2016\"].diff().dropna()\n",
    "\n",
    "df_test = adfuller(obs_df)\n",
    "df_test_opt = pd.Series(df_test[0:4], index=['Teste Estatístico DF', 'P-Value', \n",
    "                                        'Lags Usados', 'Número de observações'])\n",
    "df_test_opt = round(df_test_opt, 4)\n",
    "\n",
    "for key, value in df_test[4].items():\n",
    "    df_test_opt['VC (%s)'%key] = value.round(4)\n",
    "    \n",
    "df_test_opt"
   ]
  },
  {
   "cell_type": "code",
   "execution_count": 18,
   "metadata": {},
   "outputs": [
    {
     "name": "stderr",
     "output_type": "stream",
     "text": [
      "/home/arthurfortes/anaconda3/envs/py37/lib/python3.7/site-packages/statsmodels/tsa/stattools.py:1661: FutureWarning: The behavior of using lags=None will change in the next release. Currently lags=None is the same as lags='legacy', and so a sample-size lag length is used. After the next release, the default will change to be the same as lags='auto' which uses an automatic lag length selection method. To silence this warning, either use 'auto' or 'legacy'\n",
      "  warn(msg, FutureWarning)\n",
      "/home/arthurfortes/anaconda3/envs/py37/lib/python3.7/site-packages/statsmodels/tsa/stattools.py:1687: InterpolationWarning: p-value is greater than the indicated p-value\n",
      "  warn(\"p-value is greater than the indicated p-value\", InterpolationWarning)\n"
     ]
    },
    {
     "data": {
      "text/plain": [
       "Teste Estatístico DF     0.0664\n",
       "P-Value                  0.1000\n",
       "Lags Usados             13.0000\n",
       "VC (10%)                 0.3470\n",
       "VC (5%)                  0.4630\n",
       "VC (2.5%)                0.5740\n",
       "VC (1%)                  0.7390\n",
       "dtype: float64"
      ]
     },
     "execution_count": 18,
     "metadata": {},
     "output_type": "execute_result"
    }
   ],
   "source": [
    "kpss_test = kpss(obs_df)\n",
    "kpss_test_opt = pd.Series(kpss_test[0:3], index=['Teste Estatístico DF', 'P-Value', \n",
    "                                        'Lags Usados'])\n",
    "kpss_test_opt = round(kpss_test_opt, 4)\n",
    "\n",
    "for key, value in kpss_test[3].items():\n",
    "    kpss_test_opt['VC (%s)'%key] = value\n",
    "\n",
    "kpss_test_opt"
   ]
  },
  {
   "cell_type": "code",
   "execution_count": 19,
   "metadata": {},
   "outputs": [],
   "source": [
    "# Segunda diferenciação (Sempre deve ocorrer em cima da primeira)\n",
    "obs_df_second = train.loc[\"2005\": \"2006\"].diff().diff().dropna()"
   ]
  },
  {
   "cell_type": "code",
   "execution_count": 20,
   "metadata": {},
   "outputs": [
    {
     "data": {
      "text/plain": [
       "Teste Estatístico DF     -6.3503\n",
       "P-Value                   0.0000\n",
       "Lags Usados               9.0000\n",
       "Número de observações    92.0000\n",
       "VC (1%)                  -3.5035\n",
       "VC (5%)                  -2.8935\n",
       "VC (10%)                 -2.5838\n",
       "dtype: float64"
      ]
     },
     "execution_count": 20,
     "metadata": {},
     "output_type": "execute_result"
    }
   ],
   "source": [
    "df_test = adfuller(obs_df_second)\n",
    "df_test_opt = pd.Series(df_test[0:4], index=['Teste Estatístico DF', 'P-Value', \n",
    "                                        'Lags Usados', 'Número de observações'])\n",
    "df_test_opt = round(df_test_opt, 4)\n",
    "\n",
    "for key, value in df_test[4].items():\n",
    "    df_test_opt['VC (%s)'%key] = value.round(4)\n",
    "    \n",
    "df_test_opt"
   ]
  },
  {
   "cell_type": "code",
   "execution_count": 21,
   "metadata": {},
   "outputs": [
    {
     "name": "stderr",
     "output_type": "stream",
     "text": [
      "/home/arthurfortes/anaconda3/envs/py37/lib/python3.7/site-packages/statsmodels/tsa/stattools.py:1687: InterpolationWarning: p-value is greater than the indicated p-value\n",
      "  warn(\"p-value is greater than the indicated p-value\", InterpolationWarning)\n"
     ]
    },
    {
     "data": {
      "text/plain": [
       "Teste Estatístico DF     0.1107\n",
       "P-Value                  0.1000\n",
       "Lags Usados             13.0000\n",
       "VC (10%)                 0.3470\n",
       "VC (5%)                  0.4630\n",
       "VC (2.5%)                0.5740\n",
       "VC (1%)                  0.7390\n",
       "dtype: float64"
      ]
     },
     "execution_count": 21,
     "metadata": {},
     "output_type": "execute_result"
    }
   ],
   "source": [
    "kpss_test = kpss(obs_df_second)\n",
    "kpss_test_opt = pd.Series(kpss_test[0:3], index=['Teste Estatístico DF', 'P-Value', \n",
    "                                        'Lags Usados'])\n",
    "kpss_test_opt = round(kpss_test_opt, 4)\n",
    "\n",
    "for key, value in kpss_test[3].items():\n",
    "    kpss_test_opt['VC (%s)'%key] = value\n",
    "\n",
    "kpss_test_opt"
   ]
  },
  {
   "cell_type": "markdown",
   "metadata": {},
   "source": [
    "Visão geral"
   ]
  },
  {
   "cell_type": "code",
   "execution_count": 22,
   "metadata": {},
   "outputs": [
    {
     "data": {
      "text/plain": [
       "<matplotlib.axes._subplots.AxesSubplot at 0x7fad77f75b10>"
      ]
     },
     "execution_count": 22,
     "metadata": {},
     "output_type": "execute_result"
    },
    {
     "data": {
      "image/png": "[encoded data removed]",
      "text/plain": [
       "<Figure size 432x288 with 1 Axes>"
      ]
     },
     "metadata": {
      "needs_background": "light"
     },
     "output_type": "display_data"
    }
   ],
   "source": [
    "train.plot()"
   ]
  },
  {
   "cell_type": "code",
   "execution_count": 23,
   "metadata": {},
   "outputs": [
    {
     "data": {
      "text/plain": [
       "<matplotlib.axes._subplots.AxesSubplot at 0x7fad7c0da9d0>"
      ]
     },
     "execution_count": 23,
     "metadata": {},
     "output_type": "execute_result"
    },
    {
     "data": {
      "image/png": "[encoded data removed]",
      "text/plain": [
       "<Figure size 432x288 with 1 Axes>"
      ]
     },
     "metadata": {
      "needs_background": "light"
     },
     "output_type": "display_data"
    }
   ],
   "source": [
    "train.diff().plot()"
   ]
  },
  {
   "cell_type": "code",
   "execution_count": 24,
   "metadata": {},
   "outputs": [
    {
     "data": {
      "text/plain": [
       "Teste Estatístico DF      -5.5269\n",
       "P-Value                    0.0000\n",
       "Lags Usados                0.0000\n",
       "Número de observações    103.0000\n",
       "VC (1%)                   -3.4955\n",
       "VC (5%)                   -2.8900\n",
       "VC (10%)                  -2.5820\n",
       "dtype: float64"
      ]
     },
     "execution_count": 24,
     "metadata": {},
     "output_type": "execute_result"
    }
   ],
   "source": [
    "obs_total = train.diff().dropna()\n",
    "\n",
    "df_test = adfuller(obs_df)\n",
    "df_test_opt = pd.Series(df_test[0:4], index=['Teste Estatístico DF', 'P-Value', \n",
    "                                        'Lags Usados', 'Número de observações'])\n",
    "df_test_opt = round(df_test_opt, 4)\n",
    "\n",
    "for key, value in df_test[4].items():\n",
    "    df_test_opt['VC (%s)'%key] = value.round(4)\n",
    "    \n",
    "df_test_opt"
   ]
  },
  {
   "cell_type": "code",
   "execution_count": 25,
   "metadata": {},
   "outputs": [
    {
     "name": "stderr",
     "output_type": "stream",
     "text": [
      "/home/arthurfortes/anaconda3/envs/py37/lib/python3.7/site-packages/statsmodels/tsa/stattools.py:1661: FutureWarning: The behavior of using lags=None will change in the next release. Currently lags=None is the same as lags='legacy', and so a sample-size lag length is used. After the next release, the default will change to be the same as lags='auto' which uses an automatic lag length selection method. To silence this warning, either use 'auto' or 'legacy'\n",
      "  warn(msg, FutureWarning)\n",
      "/home/arthurfortes/anaconda3/envs/py37/lib/python3.7/site-packages/statsmodels/tsa/stattools.py:1687: InterpolationWarning: p-value is greater than the indicated p-value\n",
      "  warn(\"p-value is greater than the indicated p-value\", InterpolationWarning)\n"
     ]
    },
    {
     "data": {
      "text/plain": [
       "Teste Estatístico DF     0.0221\n",
       "P-Value                  0.1000\n",
       "Lags Usados             20.0000\n",
       "VC (10%)                 0.3470\n",
       "VC (5%)                  0.4630\n",
       "VC (2.5%)                0.5740\n",
       "VC (1%)                  0.7390\n",
       "dtype: float64"
      ]
     },
     "execution_count": 25,
     "metadata": {},
     "output_type": "execute_result"
    }
   ],
   "source": [
    "kpss_test = kpss(obs_total)\n",
    "kpss_test_opt = pd.Series(kpss_test[0:3], index=['Teste Estatístico DF', 'P-Value', \n",
    "                                        'Lags Usados'])\n",
    "kpss_test_opt = round(kpss_test_opt, 4)\n",
    "\n",
    "for key, value in kpss_test[3].items():\n",
    "    kpss_test_opt['VC (%s)'%key] = value\n",
    "\n",
    "kpss_test_opt"
   ]
  },
  {
   "cell_type": "markdown",
   "metadata": {},
   "source": [
    "### Aplicando os dados de inflação"
   ]
  },
  {
   "cell_type": "code",
   "execution_count": 26,
   "metadata": {},
   "outputs": [
    {
     "data": {
      "text/html": [
       "<div>\n",
       "<style scoped>\n",
       "    .dataframe tbody tr th:only-of-type {\n",
       "        vertical-align: middle;\n",
       "    }\n",
       "\n",
       "    .dataframe tbody tr th {\n",
       "        vertical-align: top;\n",
       "    }\n",
       "\n",
       "    .dataframe thead th {\n",
       "        text-align: right;\n",
       "    }\n",
       "</style>\n",
       "<table border=\"1\" class=\"dataframe\">\n",
       "  <thead>\n",
       "    <tr style=\"text-align: right;\">\n",
       "      <th></th>\n",
       "      <th>ANO</th>\n",
       "      <th>Mês</th>\n",
       "      <th>IPCA</th>\n",
       "      <th>Acumulado</th>\n",
       "      <th>Index</th>\n",
       "      <th>Final IPCA</th>\n",
       "    </tr>\n",
       "    <tr>\n",
       "      <th>Data</th>\n",
       "      <th></th>\n",
       "      <th></th>\n",
       "      <th></th>\n",
       "      <th></th>\n",
       "      <th></th>\n",
       "      <th></th>\n",
       "    </tr>\n",
       "  </thead>\n",
       "  <tbody>\n",
       "    <tr>\n",
       "      <th>2002-11-01</th>\n",
       "      <td>2002</td>\n",
       "      <td>11</td>\n",
       "      <td>0.0302</td>\n",
       "      <td>1.030200</td>\n",
       "      <td>162</td>\n",
       "      <td>2.392219</td>\n",
       "    </tr>\n",
       "    <tr>\n",
       "      <th>2002-12-01</th>\n",
       "      <td>2002</td>\n",
       "      <td>12</td>\n",
       "      <td>0.0210</td>\n",
       "      <td>1.051834</td>\n",
       "      <td>161</td>\n",
       "      <td>2.377715</td>\n",
       "    </tr>\n",
       "    <tr>\n",
       "      <th>2003-01-01</th>\n",
       "      <td>2003</td>\n",
       "      <td>1</td>\n",
       "      <td>0.0225</td>\n",
       "      <td>1.075500</td>\n",
       "      <td>160</td>\n",
       "      <td>2.367535</td>\n",
       "    </tr>\n",
       "    <tr>\n",
       "      <th>2003-02-01</th>\n",
       "      <td>2003</td>\n",
       "      <td>2</td>\n",
       "      <td>0.0157</td>\n",
       "      <td>1.092386</td>\n",
       "      <td>159</td>\n",
       "      <td>2.346417</td>\n",
       "    </tr>\n",
       "    <tr>\n",
       "      <th>2003-03-01</th>\n",
       "      <td>2003</td>\n",
       "      <td>3</td>\n",
       "      <td>0.0123</td>\n",
       "      <td>1.105822</td>\n",
       "      <td>158</td>\n",
       "      <td>2.316991</td>\n",
       "    </tr>\n",
       "    <tr>\n",
       "      <th>...</th>\n",
       "      <td>...</td>\n",
       "      <td>...</td>\n",
       "      <td>...</td>\n",
       "      <td>...</td>\n",
       "      <td>...</td>\n",
       "      <td>...</td>\n",
       "    </tr>\n",
       "    <tr>\n",
       "      <th>2015-12-01</th>\n",
       "      <td>2015</td>\n",
       "      <td>12</td>\n",
       "      <td>0.0096</td>\n",
       "      <td>2.316991</td>\n",
       "      <td>5</td>\n",
       "      <td>1.105822</td>\n",
       "    </tr>\n",
       "    <tr>\n",
       "      <th>2016-01-01</th>\n",
       "      <td>2016</td>\n",
       "      <td>1</td>\n",
       "      <td>0.0127</td>\n",
       "      <td>2.346417</td>\n",
       "      <td>4</td>\n",
       "      <td>1.092386</td>\n",
       "    </tr>\n",
       "    <tr>\n",
       "      <th>2016-02-01</th>\n",
       "      <td>2016</td>\n",
       "      <td>2</td>\n",
       "      <td>0.0090</td>\n",
       "      <td>2.367535</td>\n",
       "      <td>3</td>\n",
       "      <td>1.075500</td>\n",
       "    </tr>\n",
       "    <tr>\n",
       "      <th>2016-03-01</th>\n",
       "      <td>2016</td>\n",
       "      <td>3</td>\n",
       "      <td>0.0043</td>\n",
       "      <td>2.377715</td>\n",
       "      <td>2</td>\n",
       "      <td>1.051834</td>\n",
       "    </tr>\n",
       "    <tr>\n",
       "      <th>2016-04-01</th>\n",
       "      <td>2016</td>\n",
       "      <td>4</td>\n",
       "      <td>0.0061</td>\n",
       "      <td>2.392219</td>\n",
       "      <td>1</td>\n",
       "      <td>1.030200</td>\n",
       "    </tr>\n",
       "  </tbody>\n",
       "</table>\n",
       "<p>162 rows × 6 columns</p>\n",
       "</div>"
      ],
      "text/plain": [
       "             ANO  Mês    IPCA  Acumulado  Index  Final IPCA\n",
       "Data                                                       \n",
       "2002-11-01  2002   11  0.0302   1.030200    162    2.392219\n",
       "2002-12-01  2002   12  0.0210   1.051834    161    2.377715\n",
       "2003-01-01  2003    1  0.0225   1.075500    160    2.367535\n",
       "2003-02-01  2003    2  0.0157   1.092386    159    2.346417\n",
       "2003-03-01  2003    3  0.0123   1.105822    158    2.316991\n",
       "...          ...  ...     ...        ...    ...         ...\n",
       "2015-12-01  2015   12  0.0096   2.316991      5    1.105822\n",
       "2016-01-01  2016    1  0.0127   2.346417      4    1.092386\n",
       "2016-02-01  2016    2  0.0090   2.367535      3    1.075500\n",
       "2016-03-01  2016    3  0.0043   2.377715      2    1.051834\n",
       "2016-04-01  2016    4  0.0061   2.392219      1    1.030200\n",
       "\n",
       "[162 rows x 6 columns]"
      ]
     },
     "execution_count": 26,
     "metadata": {},
     "output_type": "execute_result"
    }
   ],
   "source": [
    "ipca = pd.read_excel('IPCA.xlsx', sheet_name='IPCA')\n",
    "ipca['Data'] = pd.to_datetime(ipca['Data'])\n",
    "ipca.set_index('Data', inplace=True)\n",
    "ipca"
   ]
  },
  {
   "cell_type": "code",
   "execution_count": 27,
   "metadata": {},
   "outputs": [
    {
     "data": {
      "text/html": [
       "<div>\n",
       "<style scoped>\n",
       "    .dataframe tbody tr th:only-of-type {\n",
       "        vertical-align: middle;\n",
       "    }\n",
       "\n",
       "    .dataframe tbody tr th {\n",
       "        vertical-align: top;\n",
       "    }\n",
       "\n",
       "    .dataframe thead th {\n",
       "        text-align: right;\n",
       "    }\n",
       "</style>\n",
       "<table border=\"1\" class=\"dataframe\">\n",
       "  <thead>\n",
       "    <tr style=\"text-align: right;\">\n",
       "      <th></th>\n",
       "      <th>Preço</th>\n",
       "      <th>ANO</th>\n",
       "      <th>Mês</th>\n",
       "    </tr>\n",
       "    <tr>\n",
       "      <th>Data</th>\n",
       "      <th></th>\n",
       "      <th></th>\n",
       "      <th></th>\n",
       "    </tr>\n",
       "  </thead>\n",
       "  <tbody>\n",
       "    <tr>\n",
       "      <th>2002-11-29</th>\n",
       "      <td>684.2</td>\n",
       "      <td>2002</td>\n",
       "      <td>11</td>\n",
       "    </tr>\n",
       "    <tr>\n",
       "      <th>2002-12-06</th>\n",
       "      <td>689.7</td>\n",
       "      <td>2002</td>\n",
       "      <td>12</td>\n",
       "    </tr>\n",
       "    <tr>\n",
       "      <th>2002-12-13</th>\n",
       "      <td>692.6</td>\n",
       "      <td>2002</td>\n",
       "      <td>12</td>\n",
       "    </tr>\n",
       "    <tr>\n",
       "      <th>2002-12-20</th>\n",
       "      <td>706.5</td>\n",
       "      <td>2002</td>\n",
       "      <td>12</td>\n",
       "    </tr>\n",
       "    <tr>\n",
       "      <th>2002-12-27</th>\n",
       "      <td>694.1</td>\n",
       "      <td>2002</td>\n",
       "      <td>12</td>\n",
       "    </tr>\n",
       "  </tbody>\n",
       "</table>\n",
       "</div>"
      ],
      "text/plain": [
       "            Preço   ANO  Mês\n",
       "Data                        \n",
       "2002-11-29  684.2  2002   11\n",
       "2002-12-06  689.7  2002   12\n",
       "2002-12-13  692.6  2002   12\n",
       "2002-12-20  706.5  2002   12\n",
       "2002-12-27  694.1  2002   12"
      ]
     },
     "execution_count": 27,
     "metadata": {},
     "output_type": "execute_result"
    }
   ],
   "source": [
    "train['ANO'] = train.index.year\n",
    "train['Mês'] = train.index.month\n",
    "\n",
    "train.head()"
   ]
  },
  {
   "cell_type": "code",
   "execution_count": 28,
   "metadata": {},
   "outputs": [
    {
     "data": {
      "text/html": [
       "<div>\n",
       "<style scoped>\n",
       "    .dataframe tbody tr th:only-of-type {\n",
       "        vertical-align: middle;\n",
       "    }\n",
       "\n",
       "    .dataframe tbody tr th {\n",
       "        vertical-align: top;\n",
       "    }\n",
       "\n",
       "    .dataframe thead th {\n",
       "        text-align: right;\n",
       "    }\n",
       "</style>\n",
       "<table border=\"1\" class=\"dataframe\">\n",
       "  <thead>\n",
       "    <tr style=\"text-align: right;\">\n",
       "      <th></th>\n",
       "      <th>Preço</th>\n",
       "      <th>ANO</th>\n",
       "      <th>Mês</th>\n",
       "    </tr>\n",
       "    <tr>\n",
       "      <th>Data</th>\n",
       "      <th></th>\n",
       "      <th></th>\n",
       "      <th></th>\n",
       "    </tr>\n",
       "  </thead>\n",
       "  <tbody>\n",
       "    <tr>\n",
       "      <th>2017-07-21</th>\n",
       "      <td>1302.0</td>\n",
       "      <td>2017</td>\n",
       "      <td>7</td>\n",
       "    </tr>\n",
       "    <tr>\n",
       "      <th>2017-07-28</th>\n",
       "      <td>1363.2</td>\n",
       "      <td>2017</td>\n",
       "      <td>7</td>\n",
       "    </tr>\n",
       "    <tr>\n",
       "      <th>2017-08-04</th>\n",
       "      <td>1388.5</td>\n",
       "      <td>2017</td>\n",
       "      <td>8</td>\n",
       "    </tr>\n",
       "    <tr>\n",
       "      <th>2017-08-11</th>\n",
       "      <td>1421.2</td>\n",
       "      <td>2017</td>\n",
       "      <td>8</td>\n",
       "    </tr>\n",
       "    <tr>\n",
       "      <th>2017-08-18</th>\n",
       "      <td>1425.3</td>\n",
       "      <td>2017</td>\n",
       "      <td>8</td>\n",
       "    </tr>\n",
       "  </tbody>\n",
       "</table>\n",
       "</div>"
      ],
      "text/plain": [
       "             Preço   ANO  Mês\n",
       "Data                         \n",
       "2017-07-21  1302.0  2017    7\n",
       "2017-07-28  1363.2  2017    7\n",
       "2017-08-04  1388.5  2017    8\n",
       "2017-08-11  1421.2  2017    8\n",
       "2017-08-18  1425.3  2017    8"
      ]
     },
     "execution_count": 28,
     "metadata": {},
     "output_type": "execute_result"
    }
   ],
   "source": [
    "train.tail()"
   ]
  },
  {
   "cell_type": "markdown",
   "metadata": {},
   "source": [
    "#### Combinar o dataframe de treino com o de IPCA"
   ]
  },
  {
   "cell_type": "code",
   "execution_count": 29,
   "metadata": {},
   "outputs": [
    {
     "data": {
      "text/html": [
       "<div>\n",
       "<style scoped>\n",
       "    .dataframe tbody tr th:only-of-type {\n",
       "        vertical-align: middle;\n",
       "    }\n",
       "\n",
       "    .dataframe tbody tr th {\n",
       "        vertical-align: top;\n",
       "    }\n",
       "\n",
       "    .dataframe thead th {\n",
       "        text-align: right;\n",
       "    }\n",
       "</style>\n",
       "<table border=\"1\" class=\"dataframe\">\n",
       "  <thead>\n",
       "    <tr style=\"text-align: right;\">\n",
       "      <th></th>\n",
       "      <th>Preço</th>\n",
       "      <th>ANO</th>\n",
       "      <th>Mês</th>\n",
       "      <th>Final IPCA</th>\n",
       "    </tr>\n",
       "  </thead>\n",
       "  <tbody>\n",
       "    <tr>\n",
       "      <th>0</th>\n",
       "      <td>684.2</td>\n",
       "      <td>2002</td>\n",
       "      <td>11</td>\n",
       "      <td>2.392219</td>\n",
       "    </tr>\n",
       "    <tr>\n",
       "      <th>1</th>\n",
       "      <td>689.7</td>\n",
       "      <td>2002</td>\n",
       "      <td>12</td>\n",
       "      <td>2.377715</td>\n",
       "    </tr>\n",
       "    <tr>\n",
       "      <th>2</th>\n",
       "      <td>692.6</td>\n",
       "      <td>2002</td>\n",
       "      <td>12</td>\n",
       "      <td>2.377715</td>\n",
       "    </tr>\n",
       "    <tr>\n",
       "      <th>3</th>\n",
       "      <td>706.5</td>\n",
       "      <td>2002</td>\n",
       "      <td>12</td>\n",
       "      <td>2.377715</td>\n",
       "    </tr>\n",
       "    <tr>\n",
       "      <th>4</th>\n",
       "      <td>694.1</td>\n",
       "      <td>2002</td>\n",
       "      <td>12</td>\n",
       "      <td>2.377715</td>\n",
       "    </tr>\n",
       "  </tbody>\n",
       "</table>\n",
       "</div>"
      ],
      "text/plain": [
       "   Preço   ANO  Mês  Final IPCA\n",
       "0  684.2  2002   11    2.392219\n",
       "1  689.7  2002   12    2.377715\n",
       "2  692.6  2002   12    2.377715\n",
       "3  706.5  2002   12    2.377715\n",
       "4  694.1  2002   12    2.377715"
      ]
     },
     "execution_count": 29,
     "metadata": {},
     "output_type": "execute_result"
    }
   ],
   "source": [
    "index=train.index\n",
    "train = train.merge(ipca.loc[:, ['ANO', 'Mês', 'Final IPCA']], how='left', on=['ANO', 'Mês'])\n",
    "train.head()"
   ]
  },
  {
   "cell_type": "code",
   "execution_count": 30,
   "metadata": {},
   "outputs": [
    {
     "data": {
      "text/html": [
       "<div>\n",
       "<style scoped>\n",
       "    .dataframe tbody tr th:only-of-type {\n",
       "        vertical-align: middle;\n",
       "    }\n",
       "\n",
       "    .dataframe tbody tr th {\n",
       "        vertical-align: top;\n",
       "    }\n",
       "\n",
       "    .dataframe thead th {\n",
       "        text-align: right;\n",
       "    }\n",
       "</style>\n",
       "<table border=\"1\" class=\"dataframe\">\n",
       "  <thead>\n",
       "    <tr style=\"text-align: right;\">\n",
       "      <th></th>\n",
       "      <th>Preço</th>\n",
       "      <th>ANO</th>\n",
       "      <th>Mês</th>\n",
       "      <th>Final IPCA</th>\n",
       "      <th>Preço IPCA</th>\n",
       "    </tr>\n",
       "    <tr>\n",
       "      <th>Data</th>\n",
       "      <th></th>\n",
       "      <th></th>\n",
       "      <th></th>\n",
       "      <th></th>\n",
       "      <th></th>\n",
       "    </tr>\n",
       "  </thead>\n",
       "  <tbody>\n",
       "    <tr>\n",
       "      <th>2002-11-29</th>\n",
       "      <td>684.2</td>\n",
       "      <td>2002</td>\n",
       "      <td>11</td>\n",
       "      <td>2.392219</td>\n",
       "      <td>1636.756251</td>\n",
       "    </tr>\n",
       "    <tr>\n",
       "      <th>2002-12-06</th>\n",
       "      <td>689.7</td>\n",
       "      <td>2002</td>\n",
       "      <td>12</td>\n",
       "      <td>2.377715</td>\n",
       "      <td>1639.910005</td>\n",
       "    </tr>\n",
       "    <tr>\n",
       "      <th>2002-12-13</th>\n",
       "      <td>692.6</td>\n",
       "      <td>2002</td>\n",
       "      <td>12</td>\n",
       "      <td>2.377715</td>\n",
       "      <td>1646.805378</td>\n",
       "    </tr>\n",
       "    <tr>\n",
       "      <th>2002-12-20</th>\n",
       "      <td>706.5</td>\n",
       "      <td>2002</td>\n",
       "      <td>12</td>\n",
       "      <td>2.377715</td>\n",
       "      <td>1679.855616</td>\n",
       "    </tr>\n",
       "    <tr>\n",
       "      <th>2002-12-27</th>\n",
       "      <td>694.1</td>\n",
       "      <td>2002</td>\n",
       "      <td>12</td>\n",
       "      <td>2.377715</td>\n",
       "      <td>1650.371950</td>\n",
       "    </tr>\n",
       "  </tbody>\n",
       "</table>\n",
       "</div>"
      ],
      "text/plain": [
       "            Preço   ANO  Mês  Final IPCA   Preço IPCA\n",
       "Data                                                 \n",
       "2002-11-29  684.2  2002   11    2.392219  1636.756251\n",
       "2002-12-06  689.7  2002   12    2.377715  1639.910005\n",
       "2002-12-13  692.6  2002   12    2.377715  1646.805378\n",
       "2002-12-20  706.5  2002   12    2.377715  1679.855616\n",
       "2002-12-27  694.1  2002   12    2.377715  1650.371950"
      ]
     },
     "execution_count": 30,
     "metadata": {},
     "output_type": "execute_result"
    }
   ],
   "source": [
    "train['Preço IPCA'] = train['Preço'] * train['Final IPCA']\n",
    "train.set_index(index, inplace=True)\n",
    "train.dropna(inplace=True)\n",
    "train.head()"
   ]
  },
  {
   "cell_type": "code",
   "execution_count": 35,
   "metadata": {},
   "outputs": [
    {
     "data": {
      "text/plain": [
       "Teste Estatístico DF      -1.8701\n",
       "P-Value                    0.3463\n",
       "Lags Usados                6.0000\n",
       "Número de observações    694.0000\n",
       "VC (1%)                   -3.4398\n",
       "VC (5%)                   -2.8657\n",
       "VC (10%)                  -2.5690\n",
       "dtype: float64"
      ]
     },
     "execution_count": 35,
     "metadata": {},
     "output_type": "execute_result"
    }
   ],
   "source": [
    "df_test = adfuller(train['Preço'])\n",
    "df_test_opt = pd.Series(df_test[0:4], index=['Teste Estatístico DF', 'P-Value', \n",
    "                                        'Lags Usados', 'Número de observações'])\n",
    "df_test_opt = round(df_test_opt, 4)\n",
    "\n",
    "for key, value in df_test[4].items():\n",
    "    df_test_opt['VC (%s)'%key] = value.round(4)\n",
    "    \n",
    "df_test_opt"
   ]
  },
  {
   "cell_type": "code",
   "execution_count": 36,
   "metadata": {},
   "outputs": [
    {
     "data": {
      "text/plain": [
       "Teste Estatístico DF      -4.0851\n",
       "P-Value                    0.0010\n",
       "Lags Usados                6.0000\n",
       "Número de observações    694.0000\n",
       "VC (1%)                   -3.4398\n",
       "VC (5%)                   -2.8657\n",
       "VC (10%)                  -2.5690\n",
       "dtype: float64"
      ]
     },
     "execution_count": 36,
     "metadata": {},
     "output_type": "execute_result"
    }
   ],
   "source": [
    "df_test = adfuller(train['Preço IPCA'])\n",
    "df_test_opt = pd.Series(df_test[0:4], index=['Teste Estatístico DF', 'P-Value', \n",
    "                                        'Lags Usados', 'Número de observações'])\n",
    "df_test_opt = round(df_test_opt, 4)\n",
    "\n",
    "for key, value in df_test[4].items():\n",
    "    df_test_opt['VC (%s)'%key] = value.round(4)\n",
    "    \n",
    "df_test_opt"
   ]
  },
  {
   "cell_type": "code",
   "execution_count": 37,
   "metadata": {},
   "outputs": [
    {
     "name": "stderr",
     "output_type": "stream",
     "text": [
      "/home/arthurfortes/anaconda3/envs/py37/lib/python3.7/site-packages/statsmodels/tsa/stattools.py:1661: FutureWarning: The behavior of using lags=None will change in the next release. Currently lags=None is the same as lags='legacy', and so a sample-size lag length is used. After the next release, the default will change to be the same as lags='auto' which uses an automatic lag length selection method. To silence this warning, either use 'auto' or 'legacy'\n",
      "  warn(msg, FutureWarning)\n"
     ]
    },
    {
     "data": {
      "text/plain": [
       "Teste Estatístico DF     0.3954\n",
       "P-Value                  0.0792\n",
       "Lags Usados             20.0000\n",
       "VC (10%)                 0.3470\n",
       "VC (5%)                  0.4630\n",
       "VC (2.5%)                0.5740\n",
       "VC (1%)                  0.7390\n",
       "dtype: float64"
      ]
     },
     "execution_count": 37,
     "metadata": {},
     "output_type": "execute_result"
    }
   ],
   "source": [
    "kpss_test = kpss(train['Preço IPCA'])\n",
    "kpss_test_opt = pd.Series(kpss_test[0:3], index=['Teste Estatístico DF', 'P-Value', \n",
    "                                        'Lags Usados'])\n",
    "kpss_test_opt = round(kpss_test_opt, 4)\n",
    "\n",
    "for key, value in kpss_test[3].items():\n",
    "    kpss_test_opt['VC (%s)'%key] = value\n",
    "\n",
    "kpss_test_opt"
   ]
  },
  {
   "cell_type": "code",
   "execution_count": 33,
   "metadata": {},
   "outputs": [
    {
     "data": {
      "image/png": "[encoded data removed]",
      "text/plain": [
       "<Figure size 1296x360 with 1 Axes>"
      ]
     },
     "metadata": {
      "needs_background": "light"
     },
     "output_type": "display_data"
    }
   ],
   "source": [
    "train.loc[:, ['Preço', 'Preço IPCA']].plot(figsize=(18,5));"
   ]
  },
  {
   "cell_type": "markdown",
   "metadata": {},
   "source": [
    "### Log"
   ]
  },
  {
   "cell_type": "code",
   "execution_count": 43,
   "metadata": {},
   "outputs": [
    {
     "data": {
      "text/html": [
       "<div>\n",
       "<style scoped>\n",
       "    .dataframe tbody tr th:only-of-type {\n",
       "        vertical-align: middle;\n",
       "    }\n",
       "\n",
       "    .dataframe tbody tr th {\n",
       "        vertical-align: top;\n",
       "    }\n",
       "\n",
       "    .dataframe thead th {\n",
       "        text-align: right;\n",
       "    }\n",
       "</style>\n",
       "<table border=\"1\" class=\"dataframe\">\n",
       "  <thead>\n",
       "    <tr style=\"text-align: right;\">\n",
       "      <th></th>\n",
       "      <th>Preço</th>\n",
       "      <th>ANO</th>\n",
       "      <th>Mês</th>\n",
       "      <th>Final IPCA</th>\n",
       "      <th>Preço IPCA</th>\n",
       "    </tr>\n",
       "    <tr>\n",
       "      <th>Data</th>\n",
       "      <th></th>\n",
       "      <th></th>\n",
       "      <th></th>\n",
       "      <th></th>\n",
       "      <th></th>\n",
       "    </tr>\n",
       "  </thead>\n",
       "  <tbody>\n",
       "    <tr>\n",
       "      <th>2002-11-29</th>\n",
       "      <td>684.2</td>\n",
       "      <td>2002</td>\n",
       "      <td>11</td>\n",
       "      <td>2.392219</td>\n",
       "      <td>1636.756251</td>\n",
       "    </tr>\n",
       "    <tr>\n",
       "      <th>2002-12-06</th>\n",
       "      <td>689.7</td>\n",
       "      <td>2002</td>\n",
       "      <td>12</td>\n",
       "      <td>2.377715</td>\n",
       "      <td>1639.910005</td>\n",
       "    </tr>\n",
       "    <tr>\n",
       "      <th>2002-12-13</th>\n",
       "      <td>692.6</td>\n",
       "      <td>2002</td>\n",
       "      <td>12</td>\n",
       "      <td>2.377715</td>\n",
       "      <td>1646.805378</td>\n",
       "    </tr>\n",
       "    <tr>\n",
       "      <th>2002-12-20</th>\n",
       "      <td>706.5</td>\n",
       "      <td>2002</td>\n",
       "      <td>12</td>\n",
       "      <td>2.377715</td>\n",
       "      <td>1679.855616</td>\n",
       "    </tr>\n",
       "    <tr>\n",
       "      <th>2002-12-27</th>\n",
       "      <td>694.1</td>\n",
       "      <td>2002</td>\n",
       "      <td>12</td>\n",
       "      <td>2.377715</td>\n",
       "      <td>1650.371950</td>\n",
       "    </tr>\n",
       "  </tbody>\n",
       "</table>\n",
       "</div>"
      ],
      "text/plain": [
       "            Preço   ANO  Mês  Final IPCA   Preço IPCA\n",
       "Data                                                 \n",
       "2002-11-29  684.2  2002   11    2.392219  1636.756251\n",
       "2002-12-06  689.7  2002   12    2.377715  1639.910005\n",
       "2002-12-13  692.6  2002   12    2.377715  1646.805378\n",
       "2002-12-20  706.5  2002   12    2.377715  1679.855616\n",
       "2002-12-27  694.1  2002   12    2.377715  1650.371950"
      ]
     },
     "execution_count": 43,
     "metadata": {},
     "output_type": "execute_result"
    }
   ],
   "source": [
    "train.head()"
   ]
  },
  {
   "cell_type": "code",
   "execution_count": 45,
   "metadata": {},
   "outputs": [],
   "source": [
    "import numpy as np"
   ]
  },
  {
   "cell_type": "code",
   "execution_count": 52,
   "metadata": {},
   "outputs": [
    {
     "data": {
      "image/png": "[encoded data removed]",
      "text/plain": [
       "<Figure size 1296x360 with 2 Axes>"
      ]
     },
     "metadata": {
      "needs_background": "light"
     },
     "output_type": "display_data"
    }
   ],
   "source": [
    "plt.figure(figsize=(18,5))\n",
    "plt.subplot(121)\n",
    "plt.title('Original')\n",
    "plt.plot(train['Preço'])\n",
    "\n",
    "preco_log = np.log(train['Preço'])\n",
    "plt.subplot(122)\n",
    "plt.title('Log')\n",
    "plt.plot(preco_log)\n",
    "plt.show()"
   ]
  },
  {
   "cell_type": "code",
   "execution_count": 53,
   "metadata": {},
   "outputs": [
    {
     "data": {
      "text/plain": [
       "Teste Estatístico DF      -2.1052\n",
       "P-Value                    0.2424\n",
       "Lags Usados                6.0000\n",
       "Número de observações    694.0000\n",
       "VC (1%)                   -3.4398\n",
       "VC (5%)                   -2.8657\n",
       "VC (10%)                  -2.5690\n",
       "dtype: float64"
      ]
     },
     "execution_count": 53,
     "metadata": {},
     "output_type": "execute_result"
    }
   ],
   "source": [
    "df_test = adfuller(preco_log)\n",
    "df_test_opt = pd.Series(df_test[0:4], index=['Teste Estatístico DF', 'P-Value', \n",
    "                                        'Lags Usados', 'Número de observações'])\n",
    "df_test_opt = round(df_test_opt, 4)\n",
    "\n",
    "for key, value in df_test[4].items():\n",
    "    df_test_opt['VC (%s)'%key] = value.round(4)\n",
    "    \n",
    "df_test_opt"
   ]
  },
  {
   "cell_type": "code",
   "execution_count": 54,
   "metadata": {},
   "outputs": [
    {
     "name": "stderr",
     "output_type": "stream",
     "text": [
      "/home/arthurfortes/anaconda3/envs/py37/lib/python3.7/site-packages/statsmodels/tsa/stattools.py:1661: FutureWarning: The behavior of using lags=None will change in the next release. Currently lags=None is the same as lags='legacy', and so a sample-size lag length is used. After the next release, the default will change to be the same as lags='auto' which uses an automatic lag length selection method. To silence this warning, either use 'auto' or 'legacy'\n",
      "  warn(msg, FutureWarning)\n",
      "/home/arthurfortes/anaconda3/envs/py37/lib/python3.7/site-packages/statsmodels/tsa/stattools.py:1685: InterpolationWarning: p-value is smaller than the indicated p-value\n",
      "  warn(\"p-value is smaller than the indicated p-value\", InterpolationWarning)\n"
     ]
    },
    {
     "data": {
      "text/plain": [
       "Teste Estatístico DF     2.5188\n",
       "P-Value                  0.0100\n",
       "Lags Usados             20.0000\n",
       "VC (10%)                 0.3470\n",
       "VC (5%)                  0.4630\n",
       "VC (2.5%)                0.5740\n",
       "VC (1%)                  0.7390\n",
       "dtype: float64"
      ]
     },
     "execution_count": 54,
     "metadata": {},
     "output_type": "execute_result"
    }
   ],
   "source": [
    "kpss_test = kpss(preco_log)\n",
    "kpss_test_opt = pd.Series(kpss_test[0:3], index=['Teste Estatístico DF', 'P-Value', \n",
    "                                        'Lags Usados'])\n",
    "kpss_test_opt = round(kpss_test_opt, 4)\n",
    "\n",
    "for key, value in kpss_test[3].items():\n",
    "    kpss_test_opt['VC (%s)'%key] = value\n",
    "\n",
    "kpss_test_opt"
   ]
  },
  {
   "cell_type": "markdown",
   "metadata": {},
   "source": [
    "### Box-Cox"
   ]
  },
  {
   "cell_type": "code",
   "execution_count": 55,
   "metadata": {},
   "outputs": [],
   "source": [
    "from scipy.stats import boxcox"
   ]
  },
  {
   "cell_type": "code",
   "execution_count": 57,
   "metadata": {},
   "outputs": [
    {
     "data": {
      "image/png": "[encoded data removed]",
      "text/plain": [
       "<Figure size 1296x360 with 2 Axes>"
      ]
     },
     "metadata": {
      "needs_background": "light"
     },
     "output_type": "display_data"
    },
    {
     "data": {
      "image/png": "[encoded data removed]",
      "text/plain": [
       "<Figure size 1296x360 with 2 Axes>"
      ]
     },
     "metadata": {
      "needs_background": "light"
     },
     "output_type": "display_data"
    }
   ],
   "source": [
    "plt.figure(figsize=(18,5))\n",
    "plt.subplot(221)\n",
    "plt.title('Original')\n",
    "plt.plot(train['Preço'])\n",
    "\n",
    "plt.subplot(222)\n",
    "plt.title('Distribuição')\n",
    "plt.hist(train['Preço'])\n",
    "plt.show()\n",
    "\n",
    "train['boxcox_valor'], lb = boxcox(train['Preço'])\n",
    "\n",
    "plt.figure(figsize=(18,5))\n",
    "plt.subplot(223)\n",
    "plt.title('BoxCox')\n",
    "plt.plot(train['boxcox_valor'])\n",
    "\n",
    "plt.subplot(224)\n",
    "plt.title('Distribuição BoxCox')\n",
    "plt.hist(train['boxcox_valor'])\n",
    "plt.show()"
   ]
  },
  {
   "cell_type": "code",
   "execution_count": 58,
   "metadata": {},
   "outputs": [
    {
     "data": {
      "text/html": [
       "<div>\n",
       "<style scoped>\n",
       "    .dataframe tbody tr th:only-of-type {\n",
       "        vertical-align: middle;\n",
       "    }\n",
       "\n",
       "    .dataframe tbody tr th {\n",
       "        vertical-align: top;\n",
       "    }\n",
       "\n",
       "    .dataframe thead th {\n",
       "        text-align: right;\n",
       "    }\n",
       "</style>\n",
       "<table border=\"1\" class=\"dataframe\">\n",
       "  <thead>\n",
       "    <tr style=\"text-align: right;\">\n",
       "      <th></th>\n",
       "      <th>Preço</th>\n",
       "      <th>ANO</th>\n",
       "      <th>Mês</th>\n",
       "      <th>Final IPCA</th>\n",
       "      <th>Preço IPCA</th>\n",
       "      <th>boxcox_valor</th>\n",
       "    </tr>\n",
       "    <tr>\n",
       "      <th>Data</th>\n",
       "      <th></th>\n",
       "      <th></th>\n",
       "      <th></th>\n",
       "      <th></th>\n",
       "      <th></th>\n",
       "      <th></th>\n",
       "    </tr>\n",
       "  </thead>\n",
       "  <tbody>\n",
       "    <tr>\n",
       "      <th>2002-11-29</th>\n",
       "      <td>684.2</td>\n",
       "      <td>2002</td>\n",
       "      <td>11</td>\n",
       "      <td>2.392219</td>\n",
       "      <td>1636.756251</td>\n",
       "      <td>16.674856</td>\n",
       "    </tr>\n",
       "    <tr>\n",
       "      <th>2002-12-06</th>\n",
       "      <td>689.7</td>\n",
       "      <td>2002</td>\n",
       "      <td>12</td>\n",
       "      <td>2.377715</td>\n",
       "      <td>1639.910005</td>\n",
       "      <td>16.716706</td>\n",
       "    </tr>\n",
       "    <tr>\n",
       "      <th>2002-12-13</th>\n",
       "      <td>692.6</td>\n",
       "      <td>2002</td>\n",
       "      <td>12</td>\n",
       "      <td>2.377715</td>\n",
       "      <td>1646.805378</td>\n",
       "      <td>16.738673</td>\n",
       "    </tr>\n",
       "    <tr>\n",
       "      <th>2002-12-20</th>\n",
       "      <td>706.5</td>\n",
       "      <td>2002</td>\n",
       "      <td>12</td>\n",
       "      <td>2.377715</td>\n",
       "      <td>1679.855616</td>\n",
       "      <td>16.843016</td>\n",
       "    </tr>\n",
       "    <tr>\n",
       "      <th>2002-12-27</th>\n",
       "      <td>694.1</td>\n",
       "      <td>2002</td>\n",
       "      <td>12</td>\n",
       "      <td>2.377715</td>\n",
       "      <td>1650.371950</td>\n",
       "      <td>16.750008</td>\n",
       "    </tr>\n",
       "  </tbody>\n",
       "</table>\n",
       "</div>"
      ],
      "text/plain": [
       "            Preço   ANO  Mês  Final IPCA   Preço IPCA  boxcox_valor\n",
       "Data                                                               \n",
       "2002-11-29  684.2  2002   11    2.392219  1636.756251     16.674856\n",
       "2002-12-06  689.7  2002   12    2.377715  1639.910005     16.716706\n",
       "2002-12-13  692.6  2002   12    2.377715  1646.805378     16.738673\n",
       "2002-12-20  706.5  2002   12    2.377715  1679.855616     16.843016\n",
       "2002-12-27  694.1  2002   12    2.377715  1650.371950     16.750008"
      ]
     },
     "execution_count": 58,
     "metadata": {},
     "output_type": "execute_result"
    }
   ],
   "source": [
    "train.head()"
   ]
  },
  {
   "cell_type": "code",
   "execution_count": 59,
   "metadata": {},
   "outputs": [
    {
     "data": {
      "text/plain": [
       "Teste Estatístico DF      -2.0139\n",
       "P-Value                    0.2805\n",
       "Lags Usados                6.0000\n",
       "Número de observações    694.0000\n",
       "VC (1%)                   -3.4398\n",
       "VC (5%)                   -2.8657\n",
       "VC (10%)                  -2.5690\n",
       "dtype: float64"
      ]
     },
     "execution_count": 59,
     "metadata": {},
     "output_type": "execute_result"
    }
   ],
   "source": [
    "df_test = adfuller(train['boxcox_valor'])\n",
    "df_test_opt = pd.Series(df_test[0:4], index=['Teste Estatístico DF', 'P-Value', \n",
    "                                        'Lags Usados', 'Número de observações'])\n",
    "df_test_opt = round(df_test_opt, 4)\n",
    "\n",
    "for key, value in df_test[4].items():\n",
    "    df_test_opt['VC (%s)'%key] = value.round(4)\n",
    "    \n",
    "df_test_opt"
   ]
  },
  {
   "cell_type": "code",
   "execution_count": 61,
   "metadata": {},
   "outputs": [
    {
     "data": {
      "text/plain": [
       "0.25318248550984057"
      ]
     },
     "execution_count": 61,
     "metadata": {},
     "output_type": "execute_result"
    }
   ],
   "source": [
    "lb"
   ]
  },
  {
   "cell_type": "code",
   "execution_count": 65,
   "metadata": {},
   "outputs": [
    {
     "data": {
      "application/vnd.jupyter.widget-view+json": {
       "model_id": "57f5ca2310e1443caa4f586c34796cd5",
       "version_major": 2,
       "version_minor": 0
      },
      "text/plain": [
       "interactive(children=(FloatSlider(value=0.0, description='lb', max=5.0, min=-5.0, step=0.25), Output()), _dom_…"
      ]
     },
     "metadata": {},
     "output_type": "display_data"
    }
   ],
   "source": [
    "import ipywidgets as wdg\n",
    "from ipywidgets import interactive\n",
    "\n",
    "def f(lb):\n",
    "    plt.figure(figsize=(18, 5))\n",
    "    if lb == 0:\n",
    "        train['boxcox_valor'] = np.log(train['Preço'])\n",
    "    else:\n",
    "        train['boxcox_valor'] = (train['Preço'] ** lb - 1) / lb\n",
    "    plt.plot(train['boxcox_valor'])\n",
    "    plt.show()\n",
    "\n",
    "intr_plot = interactive(f, lb=(-5, 5, 0.25))\n",
    "intr_plot"
   ]
  },
  {
   "cell_type": "markdown",
   "metadata": {},
   "source": [
    "### Avaliação de Modelo"
   ]
  },
  {
   "cell_type": "code",
   "execution_count": 74,
   "metadata": {},
   "outputs": [],
   "source": [
    "from math import sqrt\n",
    "from sklearn.metrics import mean_squared_error, mean_absolute_error\n",
    "\n",
    "def check_erro(orig, prev, nome_col='', nome_indice=''):\n",
    "    \n",
    "    vies = np.mean(orig - prev)\n",
    "    mse = mean_squared_error(orig, prev)\n",
    "    rmse = sqrt(mean_squared_error(orig, prev))\n",
    "    mae = mean_absolute_error(orig, prev)\n",
    "    mape = np.mean(np.abs((orig - prev) / orig)) * 100\n",
    "    \n",
    "    grupo_erro = [vies, mse, rmse, mae, mape]\n",
    "    serie = pd.DataFrame(grupo_erro, index=['VIÉS','MSE','RMSE','MAE', 'MAPE'], columns=[nome_col])\n",
    "    serie.index.name = nome_indice\n",
    "    \n",
    "    return serie"
   ]
  },
  {
   "cell_type": "markdown",
   "metadata": {},
   "source": [
    "### Modelos de Previsão"
   ]
  },
  {
   "cell_type": "markdown",
   "metadata": {},
   "source": [
    "#### Shift"
   ]
  },
  {
   "cell_type": "markdown",
   "metadata": {},
   "source": [
    "teste = [8, 9, 10]\n",
    "treinamento [historico] = [1, 2, 3, 4, 5]\n",
    "\n",
    "i = 0\n",
    "    y = 5\n",
    "    prev  [5]\n",
    "    hist  [1, 2, 3, 4, 5, 8]\n",
    "    \n",
    "i = 1\n",
    "    y = 8\n",
    "    prev [5, 8]\n",
    "    historico [1, 2, 3, 4, 5, 8, 9]"
   ]
  },
  {
   "cell_type": "code",
   "execution_count": 87,
   "metadata": {},
   "outputs": [
    {
     "data": {
      "text/html": [
       "<div>\n",
       "<style scoped>\n",
       "    .dataframe tbody tr th:only-of-type {\n",
       "        vertical-align: middle;\n",
       "    }\n",
       "\n",
       "    .dataframe tbody tr th {\n",
       "        vertical-align: top;\n",
       "    }\n",
       "\n",
       "    .dataframe thead th {\n",
       "        text-align: right;\n",
       "    }\n",
       "</style>\n",
       "<table border=\"1\" class=\"dataframe\">\n",
       "  <thead>\n",
       "    <tr style=\"text-align: right;\">\n",
       "      <th></th>\n",
       "      <th>Preço IPCA</th>\n",
       "    </tr>\n",
       "    <tr>\n",
       "      <th>Data</th>\n",
       "      <th></th>\n",
       "    </tr>\n",
       "  </thead>\n",
       "  <tbody>\n",
       "    <tr>\n",
       "      <th>2002-11-29</th>\n",
       "      <td>NaN</td>\n",
       "    </tr>\n",
       "    <tr>\n",
       "      <th>2002-12-06</th>\n",
       "      <td>1636.756251</td>\n",
       "    </tr>\n",
       "    <tr>\n",
       "      <th>2002-12-13</th>\n",
       "      <td>1639.910005</td>\n",
       "    </tr>\n",
       "    <tr>\n",
       "      <th>2002-12-20</th>\n",
       "      <td>1646.805378</td>\n",
       "    </tr>\n",
       "    <tr>\n",
       "      <th>2002-12-27</th>\n",
       "      <td>1679.855616</td>\n",
       "    </tr>\n",
       "    <tr>\n",
       "      <th>...</th>\n",
       "      <td>...</td>\n",
       "    </tr>\n",
       "    <tr>\n",
       "      <th>2016-04-01</th>\n",
       "      <td>1937.899330</td>\n",
       "    </tr>\n",
       "    <tr>\n",
       "      <th>2016-04-08</th>\n",
       "      <td>1705.187040</td>\n",
       "    </tr>\n",
       "    <tr>\n",
       "      <th>2016-04-15</th>\n",
       "      <td>1476.173580</td>\n",
       "    </tr>\n",
       "    <tr>\n",
       "      <th>2016-04-22</th>\n",
       "      <td>1410.446820</td>\n",
       "    </tr>\n",
       "    <tr>\n",
       "      <th>2016-04-29</th>\n",
       "      <td>1413.949500</td>\n",
       "    </tr>\n",
       "  </tbody>\n",
       "</table>\n",
       "<p>701 rows × 1 columns</p>\n",
       "</div>"
      ],
      "text/plain": [
       "             Preço IPCA\n",
       "Data                   \n",
       "2002-11-29          NaN\n",
       "2002-12-06  1636.756251\n",
       "2002-12-13  1639.910005\n",
       "2002-12-20  1646.805378\n",
       "2002-12-27  1679.855616\n",
       "...                 ...\n",
       "2016-04-01  1937.899330\n",
       "2016-04-08  1705.187040\n",
       "2016-04-15  1476.173580\n",
       "2016-04-22  1410.446820\n",
       "2016-04-29  1413.949500\n",
       "\n",
       "[701 rows x 1 columns]"
      ]
     },
     "execution_count": 87,
     "metadata": {},
     "output_type": "execute_result"
    }
   ],
   "source": [
    "train[['Preço IPCA']].shift()"
   ]
  },
  {
   "cell_type": "code",
   "execution_count": 76,
   "metadata": {},
   "outputs": [
    {
     "name": "stderr",
     "output_type": "stream",
     "text": [
      "/home/arthurfortes/anaconda3/envs/py37/lib/python3.7/site-packages/ipykernel_launcher.py:3: SettingWithCopyWarning: \n",
      "A value is trying to be set on a copy of a slice from a DataFrame.\n",
      "Try using .loc[row_indexer,col_indexer] = value instead\n",
      "\n",
      "See the caveats in the documentation: https://pandas.pydata.org/pandas-docs/stable/user_guide/indexing.html#returning-a-view-versus-a-copy\n",
      "  This is separate from the ipykernel package so we can avoid doing imports until\n",
      "/home/arthurfortes/anaconda3/envs/py37/lib/python3.7/site-packages/ipykernel_launcher.py:4: SettingWithCopyWarning: \n",
      "A value is trying to be set on a copy of a slice from a DataFrame\n",
      "\n",
      "See the caveats in the documentation: https://pandas.pydata.org/pandas-docs/stable/user_guide/indexing.html#returning-a-view-versus-a-copy\n",
      "  after removing the cwd from sys.path.\n"
     ]
    },
    {
     "data": {
      "text/html": [
       "<div>\n",
       "<style scoped>\n",
       "    .dataframe tbody tr th:only-of-type {\n",
       "        vertical-align: middle;\n",
       "    }\n",
       "\n",
       "    .dataframe tbody tr th {\n",
       "        vertical-align: top;\n",
       "    }\n",
       "\n",
       "    .dataframe thead th {\n",
       "        text-align: right;\n",
       "    }\n",
       "</style>\n",
       "<table border=\"1\" class=\"dataframe\">\n",
       "  <thead>\n",
       "    <tr style=\"text-align: right;\">\n",
       "      <th></th>\n",
       "      <th>Real</th>\n",
       "      <th>Previsão</th>\n",
       "    </tr>\n",
       "    <tr>\n",
       "      <th>Data</th>\n",
       "      <th></th>\n",
       "      <th></th>\n",
       "    </tr>\n",
       "  </thead>\n",
       "  <tbody>\n",
       "    <tr>\n",
       "      <th>2002-12-06</th>\n",
       "      <td>1639.910005</td>\n",
       "      <td>1636.756251</td>\n",
       "    </tr>\n",
       "    <tr>\n",
       "      <th>2002-12-13</th>\n",
       "      <td>1646.805378</td>\n",
       "      <td>1639.910005</td>\n",
       "    </tr>\n",
       "    <tr>\n",
       "      <th>2002-12-20</th>\n",
       "      <td>1679.855616</td>\n",
       "      <td>1646.805378</td>\n",
       "    </tr>\n",
       "    <tr>\n",
       "      <th>2002-12-27</th>\n",
       "      <td>1650.371950</td>\n",
       "      <td>1679.855616</td>\n",
       "    </tr>\n",
       "    <tr>\n",
       "      <th>2003-01-03</th>\n",
       "      <td>1723.801911</td>\n",
       "      <td>1650.371950</td>\n",
       "    </tr>\n",
       "  </tbody>\n",
       "</table>\n",
       "</div>"
      ],
      "text/plain": [
       "                   Real     Previsão\n",
       "Data                                \n",
       "2002-12-06  1639.910005  1636.756251\n",
       "2002-12-13  1646.805378  1639.910005\n",
       "2002-12-20  1679.855616  1646.805378\n",
       "2002-12-27  1650.371950  1679.855616\n",
       "2003-01-03  1723.801911  1650.371950"
      ]
     },
     "execution_count": 76,
     "metadata": {},
     "output_type": "execute_result"
    }
   ],
   "source": [
    "df_modelo_1 = train[['Preço IPCA']]\n",
    "df_modelo_1.columns = ['Real']\n",
    "df_modelo_1['Previsão'] = df_modelo_1['Real'].shift()\n",
    "df_modelo_1.dropna(inplace=True)\n",
    "df_modelo_1.head()"
   ]
  },
  {
   "cell_type": "code",
   "execution_count": 77,
   "metadata": {},
   "outputs": [
    {
     "data": {
      "text/html": [
       "<div>\n",
       "<style scoped>\n",
       "    .dataframe tbody tr th:only-of-type {\n",
       "        vertical-align: middle;\n",
       "    }\n",
       "\n",
       "    .dataframe tbody tr th {\n",
       "        vertical-align: top;\n",
       "    }\n",
       "\n",
       "    .dataframe thead th {\n",
       "        text-align: right;\n",
       "    }\n",
       "</style>\n",
       "<table border=\"1\" class=\"dataframe\">\n",
       "  <thead>\n",
       "    <tr style=\"text-align: right;\">\n",
       "      <th></th>\n",
       "      <th>Simples</th>\n",
       "    </tr>\n",
       "    <tr>\n",
       "      <th>Base Treino</th>\n",
       "      <th></th>\n",
       "    </tr>\n",
       "  </thead>\n",
       "  <tbody>\n",
       "    <tr>\n",
       "      <th>VIÉS</th>\n",
       "      <td>-0.358473</td>\n",
       "    </tr>\n",
       "    <tr>\n",
       "      <th>MSE</th>\n",
       "      <td>3187.758272</td>\n",
       "    </tr>\n",
       "    <tr>\n",
       "      <th>RMSE</th>\n",
       "      <td>56.460236</td>\n",
       "    </tr>\n",
       "    <tr>\n",
       "      <th>MAE</th>\n",
       "      <td>35.706657</td>\n",
       "    </tr>\n",
       "    <tr>\n",
       "      <th>MAPE</th>\n",
       "      <td>2.583517</td>\n",
       "    </tr>\n",
       "  </tbody>\n",
       "</table>\n",
       "</div>"
      ],
      "text/plain": [
       "                 Simples\n",
       "Base Treino             \n",
       "VIÉS           -0.358473\n",
       "MSE          3187.758272\n",
       "RMSE           56.460236\n",
       "MAE            35.706657\n",
       "MAPE            2.583517"
      ]
     },
     "execution_count": 77,
     "metadata": {},
     "output_type": "execute_result"
    }
   ],
   "source": [
    "check_erro(\n",
    "    df_modelo_1['Real'],\n",
    "    df_modelo_1['Previsão'],\n",
    "    nome_col = 'Simples',\n",
    "    nome_indice = 'Base Treino'\n",
    ")"
   ]
  },
  {
   "cell_type": "code",
   "execution_count": 88,
   "metadata": {},
   "outputs": [
    {
     "data": {
      "text/plain": [
       "<matplotlib.axes._subplots.AxesSubplot at 0x7fad64460590>"
      ]
     },
     "execution_count": 88,
     "metadata": {},
     "output_type": "execute_result"
    },
    {
     "data": {
      "image/png": "[encoded data removed]",
      "text/plain": [
       "<Figure size 432x288 with 1 Axes>"
      ]
     },
     "metadata": {
      "needs_background": "light"
     },
     "output_type": "display_data"
    }
   ],
   "source": [
    "df_modelo_1['2005':'2006'].plot()"
   ]
  },
  {
   "cell_type": "markdown",
   "metadata": {},
   "source": [
    "### Predição no conjunto de teste"
   ]
  },
  {
   "cell_type": "code",
   "execution_count": 103,
   "metadata": {},
   "outputs": [],
   "source": [
    "test_modelo_1 = test[['Preço']]\n",
    "test_modelo_1.columns = ['Real']\n",
    "\n",
    "hist = [df_modelo_1.iloc[i, 0] for i in range(len(df_modelo_1))]\n",
    "prev = []\n",
    "\n",
    "for sample in range(len(test_modelo_1)):\n",
    "    y = hist[-1]\n",
    "    obs = test_modelo_1.iloc[sample, 0]\n",
    "    prev.append(y)\n",
    "    hist.append(obs)\n",
    "    \n",
    "test_modelo_1['Previsão'] = prev"
   ]
  },
  {
   "cell_type": "code",
   "execution_count": 104,
   "metadata": {},
   "outputs": [
    {
     "data": {
      "text/html": [
       "<div>\n",
       "<style scoped>\n",
       "    .dataframe tbody tr th:only-of-type {\n",
       "        vertical-align: middle;\n",
       "    }\n",
       "\n",
       "    .dataframe tbody tr th {\n",
       "        vertical-align: top;\n",
       "    }\n",
       "\n",
       "    .dataframe thead th {\n",
       "        text-align: right;\n",
       "    }\n",
       "</style>\n",
       "<table border=\"1\" class=\"dataframe\">\n",
       "  <thead>\n",
       "    <tr style=\"text-align: right;\">\n",
       "      <th></th>\n",
       "      <th>Simples</th>\n",
       "    </tr>\n",
       "    <tr>\n",
       "      <th>Base Treino</th>\n",
       "      <th></th>\n",
       "    </tr>\n",
       "  </thead>\n",
       "  <tbody>\n",
       "    <tr>\n",
       "      <th>VIÉS</th>\n",
       "      <td>1.765865</td>\n",
       "    </tr>\n",
       "    <tr>\n",
       "      <th>MSE</th>\n",
       "      <td>3872.450157</td>\n",
       "    </tr>\n",
       "    <tr>\n",
       "      <th>RMSE</th>\n",
       "      <td>62.229014</td>\n",
       "    </tr>\n",
       "    <tr>\n",
       "      <th>MAE</th>\n",
       "      <td>40.924839</td>\n",
       "    </tr>\n",
       "    <tr>\n",
       "      <th>MAPE</th>\n",
       "      <td>2.487503</td>\n",
       "    </tr>\n",
       "  </tbody>\n",
       "</table>\n",
       "</div>"
      ],
      "text/plain": [
       "                 Simples\n",
       "Base Treino             \n",
       "VIÉS            1.765865\n",
       "MSE          3872.450157\n",
       "RMSE           62.229014\n",
       "MAE            40.924839\n",
       "MAPE            2.487503"
      ]
     },
     "execution_count": 104,
     "metadata": {},
     "output_type": "execute_result"
    }
   ],
   "source": [
    "check_erro(\n",
    "    test_modelo_1['Real'],\n",
    "    test_modelo_1['Previsão'],\n",
    "    nome_col = 'Simples',\n",
    "    nome_indice = 'Base Treino'\n",
    ")"
   ]
  },
  {
   "cell_type": "code",
   "execution_count": 105,
   "metadata": {},
   "outputs": [
    {
     "data": {
      "text/plain": [
       "<matplotlib.axes._subplots.AxesSubplot at 0x7fad5f8e34d0>"
      ]
     },
     "execution_count": 105,
     "metadata": {},
     "output_type": "execute_result"
    },
    {
     "data": {
      "image/png": "[encoded data removed]",
      "text/plain": [
       "<Figure size 432x288 with 1 Axes>"
      ]
     },
     "metadata": {
      "needs_background": "light"
     },
     "output_type": "display_data"
    }
   ],
   "source": [
    "test_modelo_1.plot()"
   ]
  },
  {
   "cell_type": "code",
   "execution_count": 109,
   "metadata": {},
   "outputs": [
    {
     "data": {
      "text/plain": [
       "Data\n",
       "2017-08-25       NaN\n",
       "2017-09-01       NaN\n",
       "2017-09-08       NaN\n",
       "2017-09-15       NaN\n",
       "2017-09-22       NaN\n",
       "               ...  \n",
       "2020-07-17    1674.6\n",
       "2020-07-24    1660.7\n",
       "2020-07-31    1616.6\n",
       "2020-08-07    1599.2\n",
       "2020-08-14    1610.1\n",
       "Name: Preço, Length: 156, dtype: float64"
      ]
     },
     "execution_count": 109,
     "metadata": {},
     "output_type": "execute_result"
    }
   ],
   "source": [
    "test['Preço'].shift(5)"
   ]
  },
  {
   "cell_type": "markdown",
   "metadata": {},
   "source": [
    "# Média móvel simples"
   ]
  },
  {
   "cell_type": "code",
   "execution_count": 136,
   "metadata": {},
   "outputs": [
    {
     "name": "stderr",
     "output_type": "stream",
     "text": [
      "/home/arthurfortes/anaconda3/envs/py37/lib/python3.7/site-packages/ipykernel_launcher.py:3: SettingWithCopyWarning: \n",
      "A value is trying to be set on a copy of a slice from a DataFrame.\n",
      "Try using .loc[row_indexer,col_indexer] = value instead\n",
      "\n",
      "See the caveats in the documentation: https://pandas.pydata.org/pandas-docs/stable/user_guide/indexing.html#returning-a-view-versus-a-copy\n",
      "  This is separate from the ipykernel package so we can avoid doing imports until\n",
      "/home/arthurfortes/anaconda3/envs/py37/lib/python3.7/site-packages/ipykernel_launcher.py:4: SettingWithCopyWarning: \n",
      "A value is trying to be set on a copy of a slice from a DataFrame\n",
      "\n",
      "See the caveats in the documentation: https://pandas.pydata.org/pandas-docs/stable/user_guide/indexing.html#returning-a-view-versus-a-copy\n",
      "  after removing the cwd from sys.path.\n"
     ]
    },
    {
     "data": {
      "text/html": [
       "<div>\n",
       "<style scoped>\n",
       "    .dataframe tbody tr th:only-of-type {\n",
       "        vertical-align: middle;\n",
       "    }\n",
       "\n",
       "    .dataframe tbody tr th {\n",
       "        vertical-align: top;\n",
       "    }\n",
       "\n",
       "    .dataframe thead th {\n",
       "        text-align: right;\n",
       "    }\n",
       "</style>\n",
       "<table border=\"1\" class=\"dataframe\">\n",
       "  <thead>\n",
       "    <tr style=\"text-align: right;\">\n",
       "      <th></th>\n",
       "      <th>Real</th>\n",
       "      <th>Previsão</th>\n",
       "    </tr>\n",
       "    <tr>\n",
       "      <th>Data</th>\n",
       "      <th></th>\n",
       "      <th></th>\n",
       "    </tr>\n",
       "  </thead>\n",
       "  <tbody>\n",
       "    <tr>\n",
       "      <th>2002-12-06</th>\n",
       "      <td>1639.910005</td>\n",
       "      <td>1638.333128</td>\n",
       "    </tr>\n",
       "    <tr>\n",
       "      <th>2002-12-13</th>\n",
       "      <td>1646.805378</td>\n",
       "      <td>1643.357691</td>\n",
       "    </tr>\n",
       "    <tr>\n",
       "      <th>2002-12-20</th>\n",
       "      <td>1679.855616</td>\n",
       "      <td>1663.330497</td>\n",
       "    </tr>\n",
       "    <tr>\n",
       "      <th>2002-12-27</th>\n",
       "      <td>1650.371950</td>\n",
       "      <td>1665.113783</td>\n",
       "    </tr>\n",
       "    <tr>\n",
       "      <th>2003-01-03</th>\n",
       "      <td>1723.801911</td>\n",
       "      <td>1687.086931</td>\n",
       "    </tr>\n",
       "  </tbody>\n",
       "</table>\n",
       "</div>"
      ],
      "text/plain": [
       "                   Real     Previsão\n",
       "Data                                \n",
       "2002-12-06  1639.910005  1638.333128\n",
       "2002-12-13  1646.805378  1643.357691\n",
       "2002-12-20  1679.855616  1663.330497\n",
       "2002-12-27  1650.371950  1665.113783\n",
       "2003-01-03  1723.801911  1687.086931"
      ]
     },
     "execution_count": 136,
     "metadata": {},
     "output_type": "execute_result"
    }
   ],
   "source": [
    "df_modelo_2 = train[['Preço IPCA']]\n",
    "df_modelo_2.columns = ['Real']\n",
    "df_modelo_2['Previsão'] = df_modelo_2.rolling(2).mean()\n",
    "df_modelo_2.dropna(inplace=True)\n",
    "df_modelo_2.head()"
   ]
  },
  {
   "cell_type": "code",
   "execution_count": 137,
   "metadata": {},
   "outputs": [
    {
     "data": {
      "text/plain": [
       "<matplotlib.axes._subplots.AxesSubplot at 0x7fad6527ddd0>"
      ]
     },
     "execution_count": 137,
     "metadata": {},
     "output_type": "execute_result"
    },
    {
     "data": {
      "image/png": "[encoded data removed]",
      "text/plain": [
       "<Figure size 432x288 with 1 Axes>"
      ]
     },
     "metadata": {
      "needs_background": "light"
     },
     "output_type": "display_data"
    }
   ],
   "source": [
    "df_modelo_2['2015': '2016'].plot()"
   ]
  },
  {
   "cell_type": "code",
   "execution_count": 138,
   "metadata": {},
   "outputs": [
    {
     "data": {
      "text/html": [
       "<div>\n",
       "<style scoped>\n",
       "    .dataframe tbody tr th:only-of-type {\n",
       "        vertical-align: middle;\n",
       "    }\n",
       "\n",
       "    .dataframe tbody tr th {\n",
       "        vertical-align: top;\n",
       "    }\n",
       "\n",
       "    .dataframe thead th {\n",
       "        text-align: right;\n",
       "    }\n",
       "</style>\n",
       "<table border=\"1\" class=\"dataframe\">\n",
       "  <thead>\n",
       "    <tr style=\"text-align: right;\">\n",
       "      <th></th>\n",
       "      <th>Simples</th>\n",
       "    </tr>\n",
       "    <tr>\n",
       "      <th>Base Treino</th>\n",
       "      <th></th>\n",
       "    </tr>\n",
       "  </thead>\n",
       "  <tbody>\n",
       "    <tr>\n",
       "      <th>VIÉS</th>\n",
       "      <td>-0.179237</td>\n",
       "    </tr>\n",
       "    <tr>\n",
       "      <th>MSE</th>\n",
       "      <td>796.939568</td>\n",
       "    </tr>\n",
       "    <tr>\n",
       "      <th>RMSE</th>\n",
       "      <td>28.230118</td>\n",
       "    </tr>\n",
       "    <tr>\n",
       "      <th>MAE</th>\n",
       "      <td>17.853329</td>\n",
       "    </tr>\n",
       "    <tr>\n",
       "      <th>MAPE</th>\n",
       "      <td>1.291758</td>\n",
       "    </tr>\n",
       "  </tbody>\n",
       "</table>\n",
       "</div>"
      ],
      "text/plain": [
       "                Simples\n",
       "Base Treino            \n",
       "VIÉS          -0.179237\n",
       "MSE          796.939568\n",
       "RMSE          28.230118\n",
       "MAE           17.853329\n",
       "MAPE           1.291758"
      ]
     },
     "execution_count": 138,
     "metadata": {},
     "output_type": "execute_result"
    }
   ],
   "source": [
    "check_erro(\n",
    "    df_modelo_2['Real'],\n",
    "    df_modelo_2['Previsão'],\n",
    "    nome_col = 'Simples',\n",
    "    nome_indice = 'Base Treino'\n",
    ")"
   ]
  },
  {
   "cell_type": "markdown",
   "metadata": {},
   "source": [
    "VIÉS\t-0.358473\n",
    "MSE\t3187.758272\n",
    "RMSE\t56.460236\n",
    "MAE\t35.706657\n",
    "MAPE\t2.583517"
   ]
  },
  {
   "cell_type": "markdown",
   "metadata": {},
   "source": [
    "#### Predição no conjunto de teste"
   ]
  },
  {
   "cell_type": "code",
   "execution_count": 142,
   "metadata": {},
   "outputs": [],
   "source": [
    "test_modelo_2 = test[['Preço']]\n",
    "test_modelo_2.columns = ['Real']\n",
    "\n",
    "hist = [df_modelo_2.iloc[i, 0] for i in range(len(df_modelo_2))]\n",
    "prev = []\n",
    "\n",
    "for sample in range(len(test_modelo_2)):\n",
    "    y = np.mean(hist[-2:])\n",
    "    obs = test_modelo_2.iloc[sample, 0]\n",
    "    prev.append(y)\n",
    "    hist.append(obs)\n",
    "    \n",
    "test_modelo_2['Previsão'] = prev"
   ]
  },
  {
   "cell_type": "code",
   "execution_count": 143,
   "metadata": {},
   "outputs": [
    {
     "data": {
      "text/html": [
       "<div>\n",
       "<style scoped>\n",
       "    .dataframe tbody tr th:only-of-type {\n",
       "        vertical-align: middle;\n",
       "    }\n",
       "\n",
       "    .dataframe tbody tr th {\n",
       "        vertical-align: top;\n",
       "    }\n",
       "\n",
       "    .dataframe thead th {\n",
       "        text-align: right;\n",
       "    }\n",
       "</style>\n",
       "<table border=\"1\" class=\"dataframe\">\n",
       "  <thead>\n",
       "    <tr style=\"text-align: right;\">\n",
       "      <th></th>\n",
       "      <th>Simples</th>\n",
       "    </tr>\n",
       "    <tr>\n",
       "      <th>Base Treino</th>\n",
       "      <th></th>\n",
       "    </tr>\n",
       "  </thead>\n",
       "  <tbody>\n",
       "    <tr>\n",
       "      <th>VIÉS</th>\n",
       "      <td>2.597758</td>\n",
       "    </tr>\n",
       "    <tr>\n",
       "      <th>MSE</th>\n",
       "      <td>6829.657075</td>\n",
       "    </tr>\n",
       "    <tr>\n",
       "      <th>RMSE</th>\n",
       "      <td>82.641739</td>\n",
       "    </tr>\n",
       "    <tr>\n",
       "      <th>MAE</th>\n",
       "      <td>54.979809</td>\n",
       "    </tr>\n",
       "    <tr>\n",
       "      <th>MAPE</th>\n",
       "      <td>3.336927</td>\n",
       "    </tr>\n",
       "  </tbody>\n",
       "</table>\n",
       "</div>"
      ],
      "text/plain": [
       "                 Simples\n",
       "Base Treino             \n",
       "VIÉS            2.597758\n",
       "MSE          6829.657075\n",
       "RMSE           82.641739\n",
       "MAE            54.979809\n",
       "MAPE            3.336927"
      ]
     },
     "execution_count": 143,
     "metadata": {},
     "output_type": "execute_result"
    }
   ],
   "source": [
    "check_erro(\n",
    "    test_modelo_2['Real'],\n",
    "    test_modelo_2['Previsão'],\n",
    "    nome_col = 'Simples',\n",
    "    nome_indice = 'Base Treino'\n",
    ")"
   ]
  },
  {
   "cell_type": "markdown",
   "metadata": {},
   "source": [
    "\tSimples\n",
    "Base Treino\t\n",
    "VIÉS\t1.765865\n",
    "MSE\t3872.450157\n",
    "RMSE\t62.229014\n",
    "MAE\t40.924839\n",
    "MAPE\t2.487503"
   ]
  },
  {
   "cell_type": "markdown",
   "metadata": {},
   "source": [
    "### MME"
   ]
  },
  {
   "cell_type": "code",
   "execution_count": 147,
   "metadata": {},
   "outputs": [],
   "source": [
    "from statsmodels.tsa.holtwinters import ExponentialSmoothing"
   ]
  },
  {
   "cell_type": "code",
   "execution_count": 157,
   "metadata": {},
   "outputs": [
    {
     "name": "stderr",
     "output_type": "stream",
     "text": [
      "/home/arthurfortes/anaconda3/envs/py37/lib/python3.7/site-packages/statsmodels/tsa/base/tsa_model.py:218: ValueWarning: A date index has been provided, but it has no associated frequency information and so will be ignored when e.g. forecasting.\n",
      "  ' ignored when e.g. forecasting.', ValueWarning)\n",
      "/home/arthurfortes/anaconda3/envs/py37/lib/python3.7/site-packages/ipykernel_launcher.py:6: SettingWithCopyWarning: \n",
      "A value is trying to be set on a copy of a slice from a DataFrame.\n",
      "Try using .loc[row_indexer,col_indexer] = value instead\n",
      "\n",
      "See the caveats in the documentation: https://pandas.pydata.org/pandas-docs/stable/user_guide/indexing.html#returning-a-view-versus-a-copy\n",
      "  \n",
      "/home/arthurfortes/anaconda3/envs/py37/lib/python3.7/site-packages/statsmodels/tsa/base/tsa_model.py:218: ValueWarning: A date index has been provided, but it has no associated frequency information and so will be ignored when e.g. forecasting.\n",
      "  ' ignored when e.g. forecasting.', ValueWarning)\n",
      "/home/arthurfortes/anaconda3/envs/py37/lib/python3.7/site-packages/statsmodels/tsa/base/tsa_model.py:218: ValueWarning: A date index has been provided, but it has no associated frequency information and so will be ignored when e.g. forecasting.\n",
      "  ' ignored when e.g. forecasting.', ValueWarning)\n"
     ]
    }
   ],
   "source": [
    "train_modelo_3 = train[['Preço IPCA']]\n",
    "alpha_ = [0, 0.5, 1]\n",
    "\n",
    "for key, value in enumerate(alpha_):\n",
    "    model = ExponentialSmoothing(train_modelo_3['Preço IPCA']).fit(smoothing_level=value)\n",
    "    train_modelo_3['a={}'.format(value)] = model.predict(start=0, end=len(train_modelo_3)-1)"
   ]
  },
  {
   "cell_type": "code",
   "execution_count": 158,
   "metadata": {},
   "outputs": [
    {
     "data": {
      "text/html": [
       "<div>\n",
       "<style scoped>\n",
       "    .dataframe tbody tr th:only-of-type {\n",
       "        vertical-align: middle;\n",
       "    }\n",
       "\n",
       "    .dataframe tbody tr th {\n",
       "        vertical-align: top;\n",
       "    }\n",
       "\n",
       "    .dataframe thead th {\n",
       "        text-align: right;\n",
       "    }\n",
       "</style>\n",
       "<table border=\"1\" class=\"dataframe\">\n",
       "  <thead>\n",
       "    <tr style=\"text-align: right;\">\n",
       "      <th></th>\n",
       "      <th>Preço IPCA</th>\n",
       "      <th>a=0</th>\n",
       "      <th>a=0.5</th>\n",
       "      <th>a=1</th>\n",
       "    </tr>\n",
       "    <tr>\n",
       "      <th>Data</th>\n",
       "      <th></th>\n",
       "      <th></th>\n",
       "      <th></th>\n",
       "      <th></th>\n",
       "    </tr>\n",
       "  </thead>\n",
       "  <tbody>\n",
       "    <tr>\n",
       "      <th>2002-11-29</th>\n",
       "      <td>1636.756251</td>\n",
       "      <td>1433.514502</td>\n",
       "      <td>1647.945062</td>\n",
       "      <td>1636.756251</td>\n",
       "    </tr>\n",
       "    <tr>\n",
       "      <th>2002-12-06</th>\n",
       "      <td>1639.910005</td>\n",
       "      <td>1433.514502</td>\n",
       "      <td>1642.350657</td>\n",
       "      <td>1636.756251</td>\n",
       "    </tr>\n",
       "    <tr>\n",
       "      <th>2002-12-13</th>\n",
       "      <td>1646.805378</td>\n",
       "      <td>1433.514502</td>\n",
       "      <td>1641.130331</td>\n",
       "      <td>1639.910005</td>\n",
       "    </tr>\n",
       "    <tr>\n",
       "      <th>2002-12-20</th>\n",
       "      <td>1679.855616</td>\n",
       "      <td>1433.514502</td>\n",
       "      <td>1643.967854</td>\n",
       "      <td>1646.805378</td>\n",
       "    </tr>\n",
       "    <tr>\n",
       "      <th>2002-12-27</th>\n",
       "      <td>1650.371950</td>\n",
       "      <td>1433.514502</td>\n",
       "      <td>1661.911735</td>\n",
       "      <td>1679.855616</td>\n",
       "    </tr>\n",
       "    <tr>\n",
       "      <th>...</th>\n",
       "      <td>...</td>\n",
       "      <td>...</td>\n",
       "      <td>...</td>\n",
       "      <td>...</td>\n",
       "    </tr>\n",
       "    <tr>\n",
       "      <th>2016-04-01</th>\n",
       "      <td>1705.187040</td>\n",
       "      <td>1433.514502</td>\n",
       "      <td>1991.618381</td>\n",
       "      <td>1937.899330</td>\n",
       "    </tr>\n",
       "    <tr>\n",
       "      <th>2016-04-08</th>\n",
       "      <td>1476.173580</td>\n",
       "      <td>1433.514502</td>\n",
       "      <td>1848.402711</td>\n",
       "      <td>1705.187040</td>\n",
       "    </tr>\n",
       "    <tr>\n",
       "      <th>2016-04-15</th>\n",
       "      <td>1410.446820</td>\n",
       "      <td>1433.514502</td>\n",
       "      <td>1662.288145</td>\n",
       "      <td>1476.173580</td>\n",
       "    </tr>\n",
       "    <tr>\n",
       "      <th>2016-04-22</th>\n",
       "      <td>1413.949500</td>\n",
       "      <td>1433.514502</td>\n",
       "      <td>1536.367483</td>\n",
       "      <td>1410.446820</td>\n",
       "    </tr>\n",
       "    <tr>\n",
       "      <th>2016-04-29</th>\n",
       "      <td>1385.825040</td>\n",
       "      <td>1433.514502</td>\n",
       "      <td>1475.158491</td>\n",
       "      <td>1413.949500</td>\n",
       "    </tr>\n",
       "  </tbody>\n",
       "</table>\n",
       "<p>701 rows × 4 columns</p>\n",
       "</div>"
      ],
      "text/plain": [
       "             Preço IPCA          a=0        a=0.5          a=1\n",
       "Data                                                          \n",
       "2002-11-29  1636.756251  1433.514502  1647.945062  1636.756251\n",
       "2002-12-06  1639.910005  1433.514502  1642.350657  1636.756251\n",
       "2002-12-13  1646.805378  1433.514502  1641.130331  1639.910005\n",
       "2002-12-20  1679.855616  1433.514502  1643.967854  1646.805378\n",
       "2002-12-27  1650.371950  1433.514502  1661.911735  1679.855616\n",
       "...                 ...          ...          ...          ...\n",
       "2016-04-01  1705.187040  1433.514502  1991.618381  1937.899330\n",
       "2016-04-08  1476.173580  1433.514502  1848.402711  1705.187040\n",
       "2016-04-15  1410.446820  1433.514502  1662.288145  1476.173580\n",
       "2016-04-22  1413.949500  1433.514502  1536.367483  1410.446820\n",
       "2016-04-29  1385.825040  1433.514502  1475.158491  1413.949500\n",
       "\n",
       "[701 rows x 4 columns]"
      ]
     },
     "execution_count": 158,
     "metadata": {},
     "output_type": "execute_result"
    }
   ],
   "source": [
    "train_modelo_3"
   ]
  },
  {
   "cell_type": "code",
   "execution_count": 159,
   "metadata": {},
   "outputs": [
    {
     "data": {
      "text/plain": [
       "<matplotlib.axes._subplots.AxesSubplot at 0x7fad5e69a310>"
      ]
     },
     "execution_count": 159,
     "metadata": {},
     "output_type": "execute_result"
    },
    {
     "data": {
      "image/png": "[encoded data removed]",
      "text/plain": [
       "<Figure size 1296x360 with 1 Axes>"
      ]
     },
     "metadata": {
      "needs_background": "light"
     },
     "output_type": "display_data"
    }
   ],
   "source": [
    "train_modelo_3['2015':'2016'].plot(figsize=(18,5))"
   ]
  },
  {
   "cell_type": "code",
   "execution_count": 161,
   "metadata": {},
   "outputs": [
    {
     "data": {
      "text/html": [
       "<div>\n",
       "<style scoped>\n",
       "    .dataframe tbody tr th:only-of-type {\n",
       "        vertical-align: middle;\n",
       "    }\n",
       "\n",
       "    .dataframe tbody tr th {\n",
       "        vertical-align: top;\n",
       "    }\n",
       "\n",
       "    .dataframe thead th {\n",
       "        text-align: right;\n",
       "    }\n",
       "</style>\n",
       "<table border=\"1\" class=\"dataframe\">\n",
       "  <thead>\n",
       "    <tr style=\"text-align: right;\">\n",
       "      <th></th>\n",
       "      <th>Simples</th>\n",
       "    </tr>\n",
       "    <tr>\n",
       "      <th>Base Treino</th>\n",
       "      <th></th>\n",
       "    </tr>\n",
       "  </thead>\n",
       "  <tbody>\n",
       "    <tr>\n",
       "      <th>VIÉS</th>\n",
       "      <td>0.000490</td>\n",
       "    </tr>\n",
       "    <tr>\n",
       "      <th>MSE</th>\n",
       "      <td>80945.899624</td>\n",
       "    </tr>\n",
       "    <tr>\n",
       "      <th>RMSE</th>\n",
       "      <td>284.509929</td>\n",
       "    </tr>\n",
       "    <tr>\n",
       "      <th>MAE</th>\n",
       "      <td>219.834591</td>\n",
       "    </tr>\n",
       "    <tr>\n",
       "      <th>MAPE</th>\n",
       "      <td>16.476764</td>\n",
       "    </tr>\n",
       "  </tbody>\n",
       "</table>\n",
       "</div>"
      ],
      "text/plain": [
       "                  Simples\n",
       "Base Treino              \n",
       "VIÉS             0.000490\n",
       "MSE          80945.899624\n",
       "RMSE           284.509929\n",
       "MAE            219.834591\n",
       "MAPE            16.476764"
      ]
     },
     "execution_count": 161,
     "metadata": {},
     "output_type": "execute_result"
    }
   ],
   "source": [
    "check_erro(\n",
    "    train_modelo_3['Preço IPCA'],\n",
    "    train_modelo_3['a=0'],\n",
    "    nome_col = 'Simples',\n",
    "    nome_indice = 'Base Treino'\n",
    ")"
   ]
  },
  {
   "cell_type": "code",
   "execution_count": 162,
   "metadata": {},
   "outputs": [
    {
     "data": {
      "text/html": [
       "<div>\n",
       "<style scoped>\n",
       "    .dataframe tbody tr th:only-of-type {\n",
       "        vertical-align: middle;\n",
       "    }\n",
       "\n",
       "    .dataframe tbody tr th {\n",
       "        vertical-align: top;\n",
       "    }\n",
       "\n",
       "    .dataframe thead th {\n",
       "        text-align: right;\n",
       "    }\n",
       "</style>\n",
       "<table border=\"1\" class=\"dataframe\">\n",
       "  <thead>\n",
       "    <tr style=\"text-align: right;\">\n",
       "      <th></th>\n",
       "      <th>Simples</th>\n",
       "    </tr>\n",
       "    <tr>\n",
       "      <th>Base Treino</th>\n",
       "      <th></th>\n",
       "    </tr>\n",
       "  </thead>\n",
       "  <tbody>\n",
       "    <tr>\n",
       "      <th>VIÉS</th>\n",
       "      <td>-0.620409</td>\n",
       "    </tr>\n",
       "    <tr>\n",
       "      <th>MSE</th>\n",
       "      <td>6614.660988</td>\n",
       "    </tr>\n",
       "    <tr>\n",
       "      <th>RMSE</th>\n",
       "      <td>81.330566</td>\n",
       "    </tr>\n",
       "    <tr>\n",
       "      <th>MAE</th>\n",
       "      <td>54.392889</td>\n",
       "    </tr>\n",
       "    <tr>\n",
       "      <th>MAPE</th>\n",
       "      <td>3.935319</td>\n",
       "    </tr>\n",
       "  </tbody>\n",
       "</table>\n",
       "</div>"
      ],
      "text/plain": [
       "                 Simples\n",
       "Base Treino             \n",
       "VIÉS           -0.620409\n",
       "MSE          6614.660988\n",
       "RMSE           81.330566\n",
       "MAE            54.392889\n",
       "MAPE            3.935319"
      ]
     },
     "execution_count": 162,
     "metadata": {},
     "output_type": "execute_result"
    }
   ],
   "source": [
    "check_erro(\n",
    "    train_modelo_3['Preço IPCA'],\n",
    "    train_modelo_3['a=0.5'],\n",
    "    nome_col = 'Simples',\n",
    "    nome_indice = 'Base Treino'\n",
    ")"
   ]
  },
  {
   "cell_type": "code",
   "execution_count": 163,
   "metadata": {},
   "outputs": [
    {
     "data": {
      "text/html": [
       "<div>\n",
       "<style scoped>\n",
       "    .dataframe tbody tr th:only-of-type {\n",
       "        vertical-align: middle;\n",
       "    }\n",
       "\n",
       "    .dataframe tbody tr th {\n",
       "        vertical-align: top;\n",
       "    }\n",
       "\n",
       "    .dataframe thead th {\n",
       "        text-align: right;\n",
       "    }\n",
       "</style>\n",
       "<table border=\"1\" class=\"dataframe\">\n",
       "  <thead>\n",
       "    <tr style=\"text-align: right;\">\n",
       "      <th></th>\n",
       "      <th>Simples</th>\n",
       "    </tr>\n",
       "    <tr>\n",
       "      <th>Base Treino</th>\n",
       "      <th></th>\n",
       "    </tr>\n",
       "  </thead>\n",
       "  <tbody>\n",
       "    <tr>\n",
       "      <th>VIÉS</th>\n",
       "      <td>-0.357962</td>\n",
       "    </tr>\n",
       "    <tr>\n",
       "      <th>MSE</th>\n",
       "      <td>3183.210828</td>\n",
       "    </tr>\n",
       "    <tr>\n",
       "      <th>RMSE</th>\n",
       "      <td>56.419951</td>\n",
       "    </tr>\n",
       "    <tr>\n",
       "      <th>MAE</th>\n",
       "      <td>35.655721</td>\n",
       "    </tr>\n",
       "    <tr>\n",
       "      <th>MAPE</th>\n",
       "      <td>2.579831</td>\n",
       "    </tr>\n",
       "  </tbody>\n",
       "</table>\n",
       "</div>"
      ],
      "text/plain": [
       "                 Simples\n",
       "Base Treino             \n",
       "VIÉS           -0.357962\n",
       "MSE          3183.210828\n",
       "RMSE           56.419951\n",
       "MAE            35.655721\n",
       "MAPE            2.579831"
      ]
     },
     "execution_count": 163,
     "metadata": {},
     "output_type": "execute_result"
    }
   ],
   "source": [
    "check_erro(\n",
    "    train_modelo_3['Preço IPCA'],\n",
    "    train_modelo_3['a=1'],\n",
    "    nome_col = 'Simples',\n",
    "    nome_indice = 'Base Treino'\n",
    ")"
   ]
  },
  {
   "cell_type": "code",
   "execution_count": 167,
   "metadata": {},
   "outputs": [
    {
     "data": {
      "text/html": [
       "<div>\n",
       "<style scoped>\n",
       "    .dataframe tbody tr th:only-of-type {\n",
       "        vertical-align: middle;\n",
       "    }\n",
       "\n",
       "    .dataframe tbody tr th {\n",
       "        vertical-align: top;\n",
       "    }\n",
       "\n",
       "    .dataframe thead th {\n",
       "        text-align: right;\n",
       "    }\n",
       "</style>\n",
       "<table border=\"1\" class=\"dataframe\">\n",
       "  <thead>\n",
       "    <tr style=\"text-align: right;\">\n",
       "      <th></th>\n",
       "      <th>Preço IPCA</th>\n",
       "      <th>a=0</th>\n",
       "      <th>a=0.5</th>\n",
       "      <th>a=1</th>\n",
       "    </tr>\n",
       "    <tr>\n",
       "      <th>Data</th>\n",
       "      <th></th>\n",
       "      <th></th>\n",
       "      <th></th>\n",
       "      <th></th>\n",
       "    </tr>\n",
       "  </thead>\n",
       "  <tbody>\n",
       "    <tr>\n",
       "      <th>2002-11-29</th>\n",
       "      <td>1636.756251</td>\n",
       "      <td>1433.514502</td>\n",
       "      <td>1647.945062</td>\n",
       "      <td>1636.756251</td>\n",
       "    </tr>\n",
       "    <tr>\n",
       "      <th>2002-12-06</th>\n",
       "      <td>1639.910005</td>\n",
       "      <td>1433.514502</td>\n",
       "      <td>1642.350657</td>\n",
       "      <td>1636.756251</td>\n",
       "    </tr>\n",
       "    <tr>\n",
       "      <th>2002-12-13</th>\n",
       "      <td>1646.805378</td>\n",
       "      <td>1433.514502</td>\n",
       "      <td>1641.130331</td>\n",
       "      <td>1639.910005</td>\n",
       "    </tr>\n",
       "    <tr>\n",
       "      <th>2002-12-20</th>\n",
       "      <td>1679.855616</td>\n",
       "      <td>1433.514502</td>\n",
       "      <td>1643.967854</td>\n",
       "      <td>1646.805378</td>\n",
       "    </tr>\n",
       "    <tr>\n",
       "      <th>2002-12-27</th>\n",
       "      <td>1650.371950</td>\n",
       "      <td>1433.514502</td>\n",
       "      <td>1661.911735</td>\n",
       "      <td>1679.855616</td>\n",
       "    </tr>\n",
       "    <tr>\n",
       "      <th>...</th>\n",
       "      <td>...</td>\n",
       "      <td>...</td>\n",
       "      <td>...</td>\n",
       "      <td>...</td>\n",
       "    </tr>\n",
       "    <tr>\n",
       "      <th>2016-04-01</th>\n",
       "      <td>1705.187040</td>\n",
       "      <td>1433.514502</td>\n",
       "      <td>1991.618381</td>\n",
       "      <td>1937.899330</td>\n",
       "    </tr>\n",
       "    <tr>\n",
       "      <th>2016-04-08</th>\n",
       "      <td>1476.173580</td>\n",
       "      <td>1433.514502</td>\n",
       "      <td>1848.402711</td>\n",
       "      <td>1705.187040</td>\n",
       "    </tr>\n",
       "    <tr>\n",
       "      <th>2016-04-15</th>\n",
       "      <td>1410.446820</td>\n",
       "      <td>1433.514502</td>\n",
       "      <td>1662.288145</td>\n",
       "      <td>1476.173580</td>\n",
       "    </tr>\n",
       "    <tr>\n",
       "      <th>2016-04-22</th>\n",
       "      <td>1413.949500</td>\n",
       "      <td>1433.514502</td>\n",
       "      <td>1536.367483</td>\n",
       "      <td>1410.446820</td>\n",
       "    </tr>\n",
       "    <tr>\n",
       "      <th>2016-04-29</th>\n",
       "      <td>1385.825040</td>\n",
       "      <td>1433.514502</td>\n",
       "      <td>1475.158491</td>\n",
       "      <td>1413.949500</td>\n",
       "    </tr>\n",
       "  </tbody>\n",
       "</table>\n",
       "<p>701 rows × 4 columns</p>\n",
       "</div>"
      ],
      "text/plain": [
       "             Preço IPCA          a=0        a=0.5          a=1\n",
       "Data                                                          \n",
       "2002-11-29  1636.756251  1433.514502  1647.945062  1636.756251\n",
       "2002-12-06  1639.910005  1433.514502  1642.350657  1636.756251\n",
       "2002-12-13  1646.805378  1433.514502  1641.130331  1639.910005\n",
       "2002-12-20  1679.855616  1433.514502  1643.967854  1646.805378\n",
       "2002-12-27  1650.371950  1433.514502  1661.911735  1679.855616\n",
       "...                 ...          ...          ...          ...\n",
       "2016-04-01  1705.187040  1433.514502  1991.618381  1937.899330\n",
       "2016-04-08  1476.173580  1433.514502  1848.402711  1705.187040\n",
       "2016-04-15  1410.446820  1433.514502  1662.288145  1476.173580\n",
       "2016-04-22  1413.949500  1433.514502  1536.367483  1410.446820\n",
       "2016-04-29  1385.825040  1433.514502  1475.158491  1413.949500\n",
       "\n",
       "[701 rows x 4 columns]"
      ]
     },
     "execution_count": 167,
     "metadata": {},
     "output_type": "execute_result"
    }
   ],
   "source": [
    "train_modelo_3"
   ]
  },
  {
   "cell_type": "code",
   "execution_count": 179,
   "metadata": {},
   "outputs": [],
   "source": [
    "test_modelo_3 = test[['Preço']]\n",
    "test_modelo_3.columns = ['Real']\n",
    "\n",
    "hist = [train_modelo_3.iloc[i, 0] for i in range(len(train_modelo_3))]\n",
    "hist_prev = [train_modelo_3.iloc[i, 2] for i in range(len(train_modelo_3))]\n",
    "\n",
    "prev = []\n",
    "\n",
    "for sample in range(len(test_modelo_3)):\n",
    "    y = hist_prev[-1] + .5 * (hist[-1] - hist_prev[-1])\n",
    "    obs = test_modelo_3.iloc[sample, 0]\n",
    "    hist.append(obs)\n",
    "    prev.append(y)\n",
    "    hist_prev.append(y)\n",
    "    \n",
    "test_modelo_3['Previsão'] = prev"
   ]
  },
  {
   "cell_type": "code",
   "execution_count": 182,
   "metadata": {},
   "outputs": [],
   "source": [
    "# 1 2=x[1] 3=x[2->1] 4=x[3->2->1] "
   ]
  },
  {
   "cell_type": "code",
   "execution_count": null,
   "metadata": {},
   "outputs": [],
   "source": [
    "2 1 > 2 "
   ]
  },
  {
   "cell_type": "code",
   "execution_count": 181,
   "metadata": {},
   "outputs": [
    {
     "data": {
      "text/html": [
       "<div>\n",
       "<style scoped>\n",
       "    .dataframe tbody tr th:only-of-type {\n",
       "        vertical-align: middle;\n",
       "    }\n",
       "\n",
       "    .dataframe tbody tr th {\n",
       "        vertical-align: top;\n",
       "    }\n",
       "\n",
       "    .dataframe thead th {\n",
       "        text-align: right;\n",
       "    }\n",
       "</style>\n",
       "<table border=\"1\" class=\"dataframe\">\n",
       "  <thead>\n",
       "    <tr style=\"text-align: right;\">\n",
       "      <th></th>\n",
       "      <th>Real</th>\n",
       "      <th>Previsão</th>\n",
       "    </tr>\n",
       "    <tr>\n",
       "      <th>Data</th>\n",
       "      <th></th>\n",
       "      <th></th>\n",
       "    </tr>\n",
       "  </thead>\n",
       "  <tbody>\n",
       "    <tr>\n",
       "      <th>2017-08-25</th>\n",
       "      <td>1399.9</td>\n",
       "      <td>1430.491766</td>\n",
       "    </tr>\n",
       "    <tr>\n",
       "      <th>2017-09-01</th>\n",
       "      <td>1403.2</td>\n",
       "      <td>1415.195883</td>\n",
       "    </tr>\n",
       "    <tr>\n",
       "      <th>2017-09-08</th>\n",
       "      <td>1443.5</td>\n",
       "      <td>1409.197941</td>\n",
       "    </tr>\n",
       "    <tr>\n",
       "      <th>2017-09-15</th>\n",
       "      <td>1435.5</td>\n",
       "      <td>1426.348971</td>\n",
       "    </tr>\n",
       "    <tr>\n",
       "      <th>2017-09-22</th>\n",
       "      <td>1444.0</td>\n",
       "      <td>1430.924485</td>\n",
       "    </tr>\n",
       "    <tr>\n",
       "      <th>...</th>\n",
       "      <td>...</td>\n",
       "      <td>...</td>\n",
       "    </tr>\n",
       "    <tr>\n",
       "      <th>2020-07-17</th>\n",
       "      <td>1620.6</td>\n",
       "      <td>1611.344414</td>\n",
       "    </tr>\n",
       "    <tr>\n",
       "      <th>2020-07-24</th>\n",
       "      <td>1662.0</td>\n",
       "      <td>1615.972207</td>\n",
       "    </tr>\n",
       "    <tr>\n",
       "      <th>2020-07-31</th>\n",
       "      <td>1692.0</td>\n",
       "      <td>1638.986104</td>\n",
       "    </tr>\n",
       "    <tr>\n",
       "      <th>2020-08-07</th>\n",
       "      <td>1673.5</td>\n",
       "      <td>1665.493052</td>\n",
       "    </tr>\n",
       "    <tr>\n",
       "      <th>2020-08-14</th>\n",
       "      <td>1661.3</td>\n",
       "      <td>1669.496526</td>\n",
       "    </tr>\n",
       "  </tbody>\n",
       "</table>\n",
       "<p>156 rows × 2 columns</p>\n",
       "</div>"
      ],
      "text/plain": [
       "              Real     Previsão\n",
       "Data                           \n",
       "2017-08-25  1399.9  1430.491766\n",
       "2017-09-01  1403.2  1415.195883\n",
       "2017-09-08  1443.5  1409.197941\n",
       "2017-09-15  1435.5  1426.348971\n",
       "2017-09-22  1444.0  1430.924485\n",
       "...            ...          ...\n",
       "2020-07-17  1620.6  1611.344414\n",
       "2020-07-24  1662.0  1615.972207\n",
       "2020-07-31  1692.0  1638.986104\n",
       "2020-08-07  1673.5  1665.493052\n",
       "2020-08-14  1661.3  1669.496526\n",
       "\n",
       "[156 rows x 2 columns]"
      ]
     },
     "execution_count": 181,
     "metadata": {},
     "output_type": "execute_result"
    }
   ],
   "source": [
    "test_modelo_3"
   ]
  },
  {
   "cell_type": "code",
   "execution_count": 177,
   "metadata": {},
   "outputs": [
    {
     "data": {
      "text/html": [
       "<div>\n",
       "<style scoped>\n",
       "    .dataframe tbody tr th:only-of-type {\n",
       "        vertical-align: middle;\n",
       "    }\n",
       "\n",
       "    .dataframe tbody tr th {\n",
       "        vertical-align: top;\n",
       "    }\n",
       "\n",
       "    .dataframe thead th {\n",
       "        text-align: right;\n",
       "    }\n",
       "</style>\n",
       "<table border=\"1\" class=\"dataframe\">\n",
       "  <thead>\n",
       "    <tr style=\"text-align: right;\">\n",
       "      <th></th>\n",
       "      <th>Simples</th>\n",
       "    </tr>\n",
       "    <tr>\n",
       "      <th>Base Treino</th>\n",
       "      <th></th>\n",
       "    </tr>\n",
       "  </thead>\n",
       "  <tbody>\n",
       "    <tr>\n",
       "      <th>VIÉS</th>\n",
       "      <td>1.765865</td>\n",
       "    </tr>\n",
       "    <tr>\n",
       "      <th>MSE</th>\n",
       "      <td>3872.450157</td>\n",
       "    </tr>\n",
       "    <tr>\n",
       "      <th>RMSE</th>\n",
       "      <td>62.229014</td>\n",
       "    </tr>\n",
       "    <tr>\n",
       "      <th>MAE</th>\n",
       "      <td>40.924839</td>\n",
       "    </tr>\n",
       "    <tr>\n",
       "      <th>MAPE</th>\n",
       "      <td>2.487503</td>\n",
       "    </tr>\n",
       "  </tbody>\n",
       "</table>\n",
       "</div>"
      ],
      "text/plain": [
       "                 Simples\n",
       "Base Treino             \n",
       "VIÉS            1.765865\n",
       "MSE          3872.450157\n",
       "RMSE           62.229014\n",
       "MAE            40.924839\n",
       "MAPE            2.487503"
      ]
     },
     "execution_count": 177,
     "metadata": {},
     "output_type": "execute_result"
    }
   ],
   "source": [
    "check_erro(\n",
    "    test_modelo_3['Real'],\n",
    "    test_modelo_3['Previsão'],\n",
    "    nome_col = 'Simples',\n",
    "    nome_indice = 'Base Treino'\n",
    ")"
   ]
  },
  {
   "cell_type": "markdown",
   "metadata": {},
   "source": [
    "#### Modelo Auto Regressivo"
   ]
  },
  {
   "cell_type": "code",
   "execution_count": 183,
   "metadata": {},
   "outputs": [],
   "source": [
    "from statsmodels.graphics.tsaplots import plot_acf, plot_pacf"
   ]
  },
  {
   "cell_type": "code",
   "execution_count": 184,
   "metadata": {},
   "outputs": [
    {
     "data": {
      "image/png": "[encoded data removed]",
      "text/plain": [
       "<Figure size 432x288 with 1 Axes>"
      ]
     },
     "metadata": {
      "needs_background": "light"
     },
     "output_type": "display_data"
    }
   ],
   "source": [
    "plot_acf(train['Preço IPCA'], lags=50, zero=False);"
   ]
  },
  {
   "cell_type": "code",
   "execution_count": 185,
   "metadata": {},
   "outputs": [
    {
     "data": {
      "image/png": "[encoded data removed]",
      "text/plain": [
       "<Figure size 432x288 with 1 Axes>"
      ]
     },
     "metadata": {
      "needs_background": "light"
     },
     "output_type": "display_data"
    }
   ],
   "source": [
    "plot_pacf(train['Preço IPCA'], lags=50, zero=False);"
   ]
  },
  {
   "cell_type": "code",
   "execution_count": 186,
   "metadata": {},
   "outputs": [],
   "source": [
    "ar_train = train[['Preço IPCA']]\n",
    "ar_train.columns = ['Real']"
   ]
  },
  {
   "cell_type": "code",
   "execution_count": 187,
   "metadata": {},
   "outputs": [],
   "source": [
    "from statsmodels.tsa.arima_model import ARMA"
   ]
  },
  {
   "cell_type": "code",
   "execution_count": 190,
   "metadata": {},
   "outputs": [
    {
     "name": "stderr",
     "output_type": "stream",
     "text": [
      "/home/arthurfortes/anaconda3/envs/py37/lib/python3.7/site-packages/statsmodels/tsa/base/tsa_model.py:218: ValueWarning: A date index has been provided, but it has no associated frequency information and so will be ignored when e.g. forecasting.\n",
      "  ' ignored when e.g. forecasting.', ValueWarning)\n",
      "/home/arthurfortes/anaconda3/envs/py37/lib/python3.7/site-packages/ipykernel_launcher.py:2: SettingWithCopyWarning: \n",
      "A value is trying to be set on a copy of a slice from a DataFrame.\n",
      "Try using .loc[row_indexer,col_indexer] = value instead\n",
      "\n",
      "See the caveats in the documentation: https://pandas.pydata.org/pandas-docs/stable/user_guide/indexing.html#returning-a-view-versus-a-copy\n",
      "  \n"
     ]
    },
    {
     "data": {
      "text/html": [
       "<div>\n",
       "<style scoped>\n",
       "    .dataframe tbody tr th:only-of-type {\n",
       "        vertical-align: middle;\n",
       "    }\n",
       "\n",
       "    .dataframe tbody tr th {\n",
       "        vertical-align: top;\n",
       "    }\n",
       "\n",
       "    .dataframe thead th {\n",
       "        text-align: right;\n",
       "    }\n",
       "</style>\n",
       "<table border=\"1\" class=\"dataframe\">\n",
       "  <thead>\n",
       "    <tr style=\"text-align: right;\">\n",
       "      <th></th>\n",
       "      <th>Real</th>\n",
       "      <th>Previsão</th>\n",
       "    </tr>\n",
       "    <tr>\n",
       "      <th>Data</th>\n",
       "      <th></th>\n",
       "      <th></th>\n",
       "    </tr>\n",
       "  </thead>\n",
       "  <tbody>\n",
       "    <tr>\n",
       "      <th>2002-11-29</th>\n",
       "      <td>1636.756251</td>\n",
       "      <td>1436.342736</td>\n",
       "    </tr>\n",
       "    <tr>\n",
       "      <th>2002-12-06</th>\n",
       "      <td>1639.910005</td>\n",
       "      <td>1632.744839</td>\n",
       "    </tr>\n",
       "    <tr>\n",
       "      <th>2002-12-13</th>\n",
       "      <td>1646.805378</td>\n",
       "      <td>1635.388098</td>\n",
       "    </tr>\n",
       "    <tr>\n",
       "      <th>2002-12-20</th>\n",
       "      <td>1679.855616</td>\n",
       "      <td>1643.896295</td>\n",
       "    </tr>\n",
       "    <tr>\n",
       "      <th>2002-12-27</th>\n",
       "      <td>1650.371950</td>\n",
       "      <td>1688.671150</td>\n",
       "    </tr>\n",
       "    <tr>\n",
       "      <th>...</th>\n",
       "      <td>...</td>\n",
       "      <td>...</td>\n",
       "    </tr>\n",
       "    <tr>\n",
       "      <th>2016-04-01</th>\n",
       "      <td>1705.187040</td>\n",
       "      <td>1876.682416</td>\n",
       "    </tr>\n",
       "    <tr>\n",
       "      <th>2016-04-08</th>\n",
       "      <td>1476.173580</td>\n",
       "      <td>1584.126400</td>\n",
       "    </tr>\n",
       "    <tr>\n",
       "      <th>2016-04-15</th>\n",
       "      <td>1410.446820</td>\n",
       "      <td>1363.721010</td>\n",
       "    </tr>\n",
       "    <tr>\n",
       "      <th>2016-04-22</th>\n",
       "      <td>1413.949500</td>\n",
       "      <td>1379.283115</td>\n",
       "    </tr>\n",
       "    <tr>\n",
       "      <th>2016-04-29</th>\n",
       "      <td>1385.825040</td>\n",
       "      <td>1416.317289</td>\n",
       "    </tr>\n",
       "  </tbody>\n",
       "</table>\n",
       "<p>701 rows × 2 columns</p>\n",
       "</div>"
      ],
      "text/plain": [
       "                   Real     Previsão\n",
       "Data                                \n",
       "2002-11-29  1636.756251  1436.342736\n",
       "2002-12-06  1639.910005  1632.744839\n",
       "2002-12-13  1646.805378  1635.388098\n",
       "2002-12-20  1679.855616  1643.896295\n",
       "2002-12-27  1650.371950  1688.671150\n",
       "...                 ...          ...\n",
       "2016-04-01  1705.187040  1876.682416\n",
       "2016-04-08  1476.173580  1584.126400\n",
       "2016-04-15  1410.446820  1363.721010\n",
       "2016-04-22  1413.949500  1379.283115\n",
       "2016-04-29  1385.825040  1416.317289\n",
       "\n",
       "[701 rows x 2 columns]"
      ]
     },
     "execution_count": 190,
     "metadata": {},
     "output_type": "execute_result"
    }
   ],
   "source": [
    "ar_model = ARMA(ar_train['Real'], order=[2,0]).fit()\n",
    "ar_train['Previsão'] = ar_model.predict(start=0, end=len(ar_train)-1)\n",
    "ar_train"
   ]
  },
  {
   "cell_type": "code",
   "execution_count": 191,
   "metadata": {},
   "outputs": [
    {
     "data": {
      "text/html": [
       "<div>\n",
       "<style scoped>\n",
       "    .dataframe tbody tr th:only-of-type {\n",
       "        vertical-align: middle;\n",
       "    }\n",
       "\n",
       "    .dataframe tbody tr th {\n",
       "        vertical-align: top;\n",
       "    }\n",
       "\n",
       "    .dataframe thead th {\n",
       "        text-align: right;\n",
       "    }\n",
       "</style>\n",
       "<table border=\"1\" class=\"dataframe\">\n",
       "  <thead>\n",
       "    <tr style=\"text-align: right;\">\n",
       "      <th></th>\n",
       "      <th>Simples</th>\n",
       "    </tr>\n",
       "    <tr>\n",
       "      <th>Base Treino</th>\n",
       "      <th></th>\n",
       "    </tr>\n",
       "  </thead>\n",
       "  <tbody>\n",
       "    <tr>\n",
       "      <th>VIÉS</th>\n",
       "      <td>-0.002375</td>\n",
       "    </tr>\n",
       "    <tr>\n",
       "      <th>MSE</th>\n",
       "      <td>2460.979050</td>\n",
       "    </tr>\n",
       "    <tr>\n",
       "      <th>RMSE</th>\n",
       "      <td>49.608256</td>\n",
       "    </tr>\n",
       "    <tr>\n",
       "      <th>MAE</th>\n",
       "      <td>32.018493</td>\n",
       "    </tr>\n",
       "    <tr>\n",
       "      <th>MAPE</th>\n",
       "      <td>2.328474</td>\n",
       "    </tr>\n",
       "  </tbody>\n",
       "</table>\n",
       "</div>"
      ],
      "text/plain": [
       "                 Simples\n",
       "Base Treino             \n",
       "VIÉS           -0.002375\n",
       "MSE          2460.979050\n",
       "RMSE           49.608256\n",
       "MAE            32.018493\n",
       "MAPE            2.328474"
      ]
     },
     "execution_count": 191,
     "metadata": {},
     "output_type": "execute_result"
    }
   ],
   "source": [
    "check_erro(\n",
    "    ar_train['Real'],\n",
    "    ar_train['Previsão'],\n",
    "    nome_col = 'Simples',\n",
    "    nome_indice = 'Base Treino'\n",
    ")"
   ]
  },
  {
   "cell_type": "code",
   "execution_count": 194,
   "metadata": {},
   "outputs": [],
   "source": [
    "c1, c2 = ar_model.arparams"
   ]
  },
  {
   "cell_type": "code",
   "execution_count": 197,
   "metadata": {},
   "outputs": [],
   "source": [
    "ar_test = test[['Preço']]\n",
    "ar_test.columns = ['Real']\n",
    "\n",
    "hist = [ar_train.iloc[i, 0] for i in range(len(ar_train))]\n",
    "\n",
    "prev = []\n",
    "\n",
    "for sample in range(len(ar_test)):\n",
    "    # y = yt-1 * c1 _ yt-2 * c2\n",
    "    y = (hist[-1] * c1) + (hist[-2] * c2)\n",
    "    obs = ar_test.iloc[sample, 0]\n",
    "    hist.append(obs)\n",
    "    prev.append(y)\n",
    "    \n",
    "ar_test['Previsão'] = prev"
   ]
  },
  {
   "cell_type": "code",
   "execution_count": 198,
   "metadata": {},
   "outputs": [
    {
     "data": {
      "text/html": [
       "<div>\n",
       "<style scoped>\n",
       "    .dataframe tbody tr th:only-of-type {\n",
       "        vertical-align: middle;\n",
       "    }\n",
       "\n",
       "    .dataframe tbody tr th {\n",
       "        vertical-align: top;\n",
       "    }\n",
       "\n",
       "    .dataframe thead th {\n",
       "        text-align: right;\n",
       "    }\n",
       "</style>\n",
       "<table border=\"1\" class=\"dataframe\">\n",
       "  <thead>\n",
       "    <tr style=\"text-align: right;\">\n",
       "      <th></th>\n",
       "      <th>Real</th>\n",
       "      <th>Previsão</th>\n",
       "    </tr>\n",
       "    <tr>\n",
       "      <th>Data</th>\n",
       "      <th></th>\n",
       "      <th></th>\n",
       "    </tr>\n",
       "  </thead>\n",
       "  <tbody>\n",
       "    <tr>\n",
       "      <th>2017-08-25</th>\n",
       "      <td>1399.9</td>\n",
       "      <td>1330.945488</td>\n",
       "    </tr>\n",
       "    <tr>\n",
       "      <th>2017-09-01</th>\n",
       "      <td>1403.2</td>\n",
       "      <td>1365.104772</td>\n",
       "    </tr>\n",
       "    <tr>\n",
       "      <th>2017-09-08</th>\n",
       "      <td>1443.5</td>\n",
       "      <td>1363.071529</td>\n",
       "    </tr>\n",
       "    <tr>\n",
       "      <th>2017-09-15</th>\n",
       "      <td>1435.5</td>\n",
       "      <td>1420.149729</td>\n",
       "    </tr>\n",
       "    <tr>\n",
       "      <th>2017-09-22</th>\n",
       "      <td>1444.0</td>\n",
       "      <td>1388.920719</td>\n",
       "    </tr>\n",
       "    <tr>\n",
       "      <th>...</th>\n",
       "      <td>...</td>\n",
       "      <td>...</td>\n",
       "    </tr>\n",
       "    <tr>\n",
       "      <th>2020-07-17</th>\n",
       "      <td>1620.6</td>\n",
       "      <td>1567.510749</td>\n",
       "    </tr>\n",
       "    <tr>\n",
       "      <th>2020-07-24</th>\n",
       "      <td>1662.0</td>\n",
       "      <td>1577.504132</td>\n",
       "    </tr>\n",
       "    <tr>\n",
       "      <th>2020-07-31</th>\n",
       "      <td>1692.0</td>\n",
       "      <td>1632.685884</td>\n",
       "    </tr>\n",
       "    <tr>\n",
       "      <th>2020-08-07</th>\n",
       "      <td>1673.5</td>\n",
       "      <td>1656.254891</td>\n",
       "    </tr>\n",
       "    <tr>\n",
       "      <th>2020-08-14</th>\n",
       "      <td>1661.3</td>\n",
       "      <td>1614.740985</td>\n",
       "    </tr>\n",
       "  </tbody>\n",
       "</table>\n",
       "<p>156 rows × 2 columns</p>\n",
       "</div>"
      ],
      "text/plain": [
       "              Real     Previsão\n",
       "Data                           \n",
       "2017-08-25  1399.9  1330.945488\n",
       "2017-09-01  1403.2  1365.104772\n",
       "2017-09-08  1443.5  1363.071529\n",
       "2017-09-15  1435.5  1420.149729\n",
       "2017-09-22  1444.0  1388.920719\n",
       "...            ...          ...\n",
       "2020-07-17  1620.6  1567.510749\n",
       "2020-07-24  1662.0  1577.504132\n",
       "2020-07-31  1692.0  1632.685884\n",
       "2020-08-07  1673.5  1656.254891\n",
       "2020-08-14  1661.3  1614.740985\n",
       "\n",
       "[156 rows x 2 columns]"
      ]
     },
     "execution_count": 198,
     "metadata": {},
     "output_type": "execute_result"
    }
   ],
   "source": [
    "ar_test"
   ]
  },
  {
   "cell_type": "code",
   "execution_count": 199,
   "metadata": {},
   "outputs": [
    {
     "data": {
      "text/html": [
       "<div>\n",
       "<style scoped>\n",
       "    .dataframe tbody tr th:only-of-type {\n",
       "        vertical-align: middle;\n",
       "    }\n",
       "\n",
       "    .dataframe tbody tr th {\n",
       "        vertical-align: top;\n",
       "    }\n",
       "\n",
       "    .dataframe thead th {\n",
       "        text-align: right;\n",
       "    }\n",
       "</style>\n",
       "<table border=\"1\" class=\"dataframe\">\n",
       "  <thead>\n",
       "    <tr style=\"text-align: right;\">\n",
       "      <th></th>\n",
       "      <th>Simples</th>\n",
       "    </tr>\n",
       "    <tr>\n",
       "      <th>Base Treino</th>\n",
       "      <th></th>\n",
       "    </tr>\n",
       "  </thead>\n",
       "  <tbody>\n",
       "    <tr>\n",
       "      <th>VIÉS</th>\n",
       "      <td>51.267331</td>\n",
       "    </tr>\n",
       "    <tr>\n",
       "      <th>MSE</th>\n",
       "      <td>5332.704760</td>\n",
       "    </tr>\n",
       "    <tr>\n",
       "      <th>RMSE</th>\n",
       "      <td>73.025371</td>\n",
       "    </tr>\n",
       "    <tr>\n",
       "      <th>MAE</th>\n",
       "      <td>61.838733</td>\n",
       "    </tr>\n",
       "    <tr>\n",
       "      <th>MAPE</th>\n",
       "      <td>3.699557</td>\n",
       "    </tr>\n",
       "  </tbody>\n",
       "</table>\n",
       "</div>"
      ],
      "text/plain": [
       "                 Simples\n",
       "Base Treino             \n",
       "VIÉS           51.267331\n",
       "MSE          5332.704760\n",
       "RMSE           73.025371\n",
       "MAE            61.838733\n",
       "MAPE            3.699557"
      ]
     },
     "execution_count": 199,
     "metadata": {},
     "output_type": "execute_result"
    }
   ],
   "source": [
    "check_erro(\n",
    "    ar_test['Real'],\n",
    "    ar_test['Previsão'],\n",
    "    nome_col = 'Simples',\n",
    "    nome_indice = 'Base Treino'\n",
    ")"
   ]
  }
 ],
 "metadata": {
  "kernelspec": {
   "display_name": "Python 3",
   "language": "python",
   "name": "python3"
  },
  "language_info": {
   "codemirror_mode": {
    "name": "ipython",
    "version": 3
   },
   "file_extension": ".py",
   "mimetype": "text/x-python",
   "name": "python",
   "nbconvert_exporter": "python",
   "pygments_lexer": "ipython3",
   "version": "3.7.7"
  }
 },
 "nbformat": 4,
 "nbformat_minor": 4
}
