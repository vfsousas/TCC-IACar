{
 "cells": [
  {
   "cell_type": "code",
   "execution_count": null,
   "metadata": {},
   "outputs": [],
   "source": [
    "#!cat bibliotecas.txt | xargs -n 1 pip3 install"
   ]
  },
  {
   "cell_type": "code",
   "execution_count": 1,
   "metadata": {},
   "outputs": [],
   "source": [
    "#Importação de bibliotecas\n",
    "import RPi.GPIO as GPIO\n",
    "import time, copy\n",
    "import board, busio, adafruit_vl53l0x\n",
    "import serial"
   ]
  },
  {
   "cell_type": "code",
   "execution_count": 2,
   "metadata": {},
   "outputs": [],
   "source": [
    "#Setup das portas logicas do Raspibery PI\n",
    "class SetupGPIO:\n",
    "    def __init__(self):\n",
    "        self.objGPIO = GPIO\n",
    "        self.objGPIO.cleanup() # Liaaaaaaaaaaaaaaaaaaaaaaaaaaaaaaa/*****************************************************************************/********                 mpa todos os estados de todas as portas\n",
    "        self.objGPIO.setmode(GPIO.BCM) #Definindi uso dos numeros das portas por canais\n",
    "    \n",
    "    def get_gpio(self):\n",
    "        return self.objGPIO"
   ]
  },
  {
   "cell_type": "code",
   "execution_count": 31,
   "metadata": {},
   "outputs": [],
   "source": [
    "class Gsm_GPS:\n",
    "    def __init__(self):\n",
    "        self.port=serial.Serial(\"/dev/ttyS0\",baudrate=11500, timeout=5  )\n",
    "        self.port.flush()\n",
    "        self.habilita_gsm_gps()\n",
    "    \n",
    "    def habilita_gsm_gps(self):\n",
    "        self.port.write('AT\\r'.encode())\n",
    "        self.response()\n",
    "        self.port.write('AT+CSQ\\r'.encode())\n",
    "        self.response()\n",
    "        port.write('AT+CPIN?\\r')\n",
    "        response()\n",
    "    \n",
    "    def response(self):\n",
    "        responseCount = 0\n",
    "        while True:\n",
    "            resp = self.port.readline().decode()\n",
    "            print(resp)\n",
    "            print(responseCount)\n",
    "            if \"OK\" in resp:\n",
    "                break\n",
    "            if \"ERROR\" in resp:\n",
    "                break\n",
    "            if responseCount > 30:\n",
    "                break\n",
    "            else:\n",
    "                responseCount +=1"
   ]
  },
  {
   "cell_type": "code",
   "execution_count": 32,
   "metadata": {},
   "outputs": [
    {
     "name": "stdout",
     "output_type": "stream",
     "text": [
      "AT\n",
      "0\n",
      "\n",
      "1\n",
      "\n",
      "2\n",
      "\n",
      "3\n",
      "\n",
      "4\n",
      "\n",
      "5\n",
      "\n",
      "6\n",
      "\n",
      "7\n",
      "\n",
      "8\n",
      "\n",
      "9\n",
      "\n",
      "10\n",
      "\n",
      "11\n",
      "\n",
      "12\n",
      "\n",
      "13\n"
     ]
    },
    {
     "ename": "KeyboardInterrupt",
     "evalue": "",
     "output_type": "error",
     "traceback": [
      "\u001b[0;31m---------------------------------------------------------------------------\u001b[0m",
      "\u001b[0;31mKeyboardInterrupt\u001b[0m                         Traceback (most recent call last)",
      "\u001b[0;32m<ipython-input-32-65742a0f92f3>\u001b[0m in \u001b[0;36m<module>\u001b[0;34m\u001b[0m\n\u001b[0;32m----> 1\u001b[0;31m \u001b[0mgsmgps\u001b[0m \u001b[0;34m=\u001b[0m \u001b[0mGsm_GPS\u001b[0m\u001b[0;34m(\u001b[0m\u001b[0;34m)\u001b[0m\u001b[0;34m\u001b[0m\u001b[0;34m\u001b[0m\u001b[0m\n\u001b[0m",
      "\u001b[0;32m<ipython-input-31-361a6ed047c3>\u001b[0m in \u001b[0;36m__init__\u001b[0;34m(self)\u001b[0m\n\u001b[1;32m      3\u001b[0m         \u001b[0mself\u001b[0m\u001b[0;34m.\u001b[0m\u001b[0mport\u001b[0m\u001b[0;34m=\u001b[0m\u001b[0mserial\u001b[0m\u001b[0;34m.\u001b[0m\u001b[0mSerial\u001b[0m\u001b[0;34m(\u001b[0m\u001b[0;34m\"/dev/ttyS0\"\u001b[0m\u001b[0;34m,\u001b[0m\u001b[0mbaudrate\u001b[0m\u001b[0;34m=\u001b[0m\u001b[0;36m38400\u001b[0m\u001b[0;34m,\u001b[0m \u001b[0mtimeout\u001b[0m\u001b[0;34m=\u001b[0m\u001b[0;36m5\u001b[0m  \u001b[0;34m)\u001b[0m\u001b[0;34m\u001b[0m\u001b[0;34m\u001b[0m\u001b[0m\n\u001b[1;32m      4\u001b[0m         \u001b[0mself\u001b[0m\u001b[0;34m.\u001b[0m\u001b[0mport\u001b[0m\u001b[0;34m.\u001b[0m\u001b[0mflush\u001b[0m\u001b[0;34m(\u001b[0m\u001b[0;34m)\u001b[0m\u001b[0;34m\u001b[0m\u001b[0;34m\u001b[0m\u001b[0m\n\u001b[0;32m----> 5\u001b[0;31m         \u001b[0mself\u001b[0m\u001b[0;34m.\u001b[0m\u001b[0mhabilita_gsm_gps\u001b[0m\u001b[0;34m(\u001b[0m\u001b[0;34m)\u001b[0m\u001b[0;34m\u001b[0m\u001b[0;34m\u001b[0m\u001b[0m\n\u001b[0m\u001b[1;32m      6\u001b[0m \u001b[0;34m\u001b[0m\u001b[0m\n\u001b[1;32m      7\u001b[0m     \u001b[0;32mdef\u001b[0m \u001b[0mhabilita_gsm_gps\u001b[0m\u001b[0;34m(\u001b[0m\u001b[0mself\u001b[0m\u001b[0;34m)\u001b[0m\u001b[0;34m:\u001b[0m\u001b[0;34m\u001b[0m\u001b[0;34m\u001b[0m\u001b[0m\n",
      "\u001b[0;32m<ipython-input-31-361a6ed047c3>\u001b[0m in \u001b[0;36mhabilita_gsm_gps\u001b[0;34m(self)\u001b[0m\n\u001b[1;32m      7\u001b[0m     \u001b[0;32mdef\u001b[0m \u001b[0mhabilita_gsm_gps\u001b[0m\u001b[0;34m(\u001b[0m\u001b[0mself\u001b[0m\u001b[0;34m)\u001b[0m\u001b[0;34m:\u001b[0m\u001b[0;34m\u001b[0m\u001b[0;34m\u001b[0m\u001b[0m\n\u001b[1;32m      8\u001b[0m         \u001b[0mself\u001b[0m\u001b[0;34m.\u001b[0m\u001b[0mport\u001b[0m\u001b[0;34m.\u001b[0m\u001b[0mwrite\u001b[0m\u001b[0;34m(\u001b[0m\u001b[0;34m'AT\\r'\u001b[0m\u001b[0;34m.\u001b[0m\u001b[0mencode\u001b[0m\u001b[0;34m(\u001b[0m\u001b[0;34m)\u001b[0m\u001b[0;34m)\u001b[0m\u001b[0;34m\u001b[0m\u001b[0;34m\u001b[0m\u001b[0m\n\u001b[0;32m----> 9\u001b[0;31m         \u001b[0mself\u001b[0m\u001b[0;34m.\u001b[0m\u001b[0mresponse\u001b[0m\u001b[0;34m(\u001b[0m\u001b[0;34m)\u001b[0m\u001b[0;34m\u001b[0m\u001b[0;34m\u001b[0m\u001b[0m\n\u001b[0m\u001b[1;32m     10\u001b[0m         \u001b[0mself\u001b[0m\u001b[0;34m.\u001b[0m\u001b[0mport\u001b[0m\u001b[0;34m.\u001b[0m\u001b[0mwrite\u001b[0m\u001b[0;34m(\u001b[0m\u001b[0;34m'AT+CSQ\\r'\u001b[0m\u001b[0;34m.\u001b[0m\u001b[0mencode\u001b[0m\u001b[0;34m(\u001b[0m\u001b[0;34m)\u001b[0m\u001b[0;34m)\u001b[0m\u001b[0;34m\u001b[0m\u001b[0;34m\u001b[0m\u001b[0m\n\u001b[1;32m     11\u001b[0m         \u001b[0mself\u001b[0m\u001b[0;34m.\u001b[0m\u001b[0mresponse\u001b[0m\u001b[0;34m(\u001b[0m\u001b[0;34m)\u001b[0m\u001b[0;34m\u001b[0m\u001b[0;34m\u001b[0m\u001b[0m\n",
      "\u001b[0;32m<ipython-input-31-361a6ed047c3>\u001b[0m in \u001b[0;36mresponse\u001b[0;34m(self)\u001b[0m\n\u001b[1;32m     16\u001b[0m         \u001b[0mresponseCount\u001b[0m \u001b[0;34m=\u001b[0m \u001b[0;36m0\u001b[0m\u001b[0;34m\u001b[0m\u001b[0;34m\u001b[0m\u001b[0m\n\u001b[1;32m     17\u001b[0m         \u001b[0;32mwhile\u001b[0m \u001b[0;32mTrue\u001b[0m\u001b[0;34m:\u001b[0m\u001b[0;34m\u001b[0m\u001b[0;34m\u001b[0m\u001b[0m\n\u001b[0;32m---> 18\u001b[0;31m             \u001b[0mresp\u001b[0m \u001b[0;34m=\u001b[0m \u001b[0mself\u001b[0m\u001b[0;34m.\u001b[0m\u001b[0mport\u001b[0m\u001b[0;34m.\u001b[0m\u001b[0mreadline\u001b[0m\u001b[0;34m(\u001b[0m\u001b[0;34m)\u001b[0m\u001b[0;34m.\u001b[0m\u001b[0mdecode\u001b[0m\u001b[0;34m(\u001b[0m\u001b[0;34m)\u001b[0m\u001b[0;34m\u001b[0m\u001b[0;34m\u001b[0m\u001b[0m\n\u001b[0m\u001b[1;32m     19\u001b[0m             \u001b[0mprint\u001b[0m\u001b[0;34m(\u001b[0m\u001b[0mresp\u001b[0m\u001b[0;34m)\u001b[0m\u001b[0;34m\u001b[0m\u001b[0;34m\u001b[0m\u001b[0m\n\u001b[1;32m     20\u001b[0m             \u001b[0mprint\u001b[0m\u001b[0;34m(\u001b[0m\u001b[0mresponseCount\u001b[0m\u001b[0;34m)\u001b[0m\u001b[0;34m\u001b[0m\u001b[0;34m\u001b[0m\u001b[0m\n",
      "\u001b[0;32m~/.virtualenvs/tcc/lib/python3.7/site-packages/serial/serialposix.py\u001b[0m in \u001b[0;36mread\u001b[0;34m(self, size)\u001b[0m\n\u001b[1;32m    481\u001b[0m         \u001b[0;32mwhile\u001b[0m \u001b[0mlen\u001b[0m\u001b[0;34m(\u001b[0m\u001b[0mread\u001b[0m\u001b[0;34m)\u001b[0m \u001b[0;34m<\u001b[0m \u001b[0msize\u001b[0m\u001b[0;34m:\u001b[0m\u001b[0;34m\u001b[0m\u001b[0;34m\u001b[0m\u001b[0m\n\u001b[1;32m    482\u001b[0m             \u001b[0;32mtry\u001b[0m\u001b[0;34m:\u001b[0m\u001b[0;34m\u001b[0m\u001b[0;34m\u001b[0m\u001b[0m\n\u001b[0;32m--> 483\u001b[0;31m                 \u001b[0mready\u001b[0m\u001b[0;34m,\u001b[0m \u001b[0m_\u001b[0m\u001b[0;34m,\u001b[0m \u001b[0m_\u001b[0m \u001b[0;34m=\u001b[0m \u001b[0mselect\u001b[0m\u001b[0;34m.\u001b[0m\u001b[0mselect\u001b[0m\u001b[0;34m(\u001b[0m\u001b[0;34m[\u001b[0m\u001b[0mself\u001b[0m\u001b[0;34m.\u001b[0m\u001b[0mfd\u001b[0m\u001b[0;34m,\u001b[0m \u001b[0mself\u001b[0m\u001b[0;34m.\u001b[0m\u001b[0mpipe_abort_read_r\u001b[0m\u001b[0;34m]\u001b[0m\u001b[0;34m,\u001b[0m \u001b[0;34m[\u001b[0m\u001b[0;34m]\u001b[0m\u001b[0;34m,\u001b[0m \u001b[0;34m[\u001b[0m\u001b[0;34m]\u001b[0m\u001b[0;34m,\u001b[0m \u001b[0mtimeout\u001b[0m\u001b[0;34m.\u001b[0m\u001b[0mtime_left\u001b[0m\u001b[0;34m(\u001b[0m\u001b[0;34m)\u001b[0m\u001b[0;34m)\u001b[0m\u001b[0;34m\u001b[0m\u001b[0;34m\u001b[0m\u001b[0m\n\u001b[0m\u001b[1;32m    484\u001b[0m                 \u001b[0;32mif\u001b[0m \u001b[0mself\u001b[0m\u001b[0;34m.\u001b[0m\u001b[0mpipe_abort_read_r\u001b[0m \u001b[0;32min\u001b[0m \u001b[0mready\u001b[0m\u001b[0;34m:\u001b[0m\u001b[0;34m\u001b[0m\u001b[0;34m\u001b[0m\u001b[0m\n\u001b[1;32m    485\u001b[0m                     \u001b[0mos\u001b[0m\u001b[0;34m.\u001b[0m\u001b[0mread\u001b[0m\u001b[0;34m(\u001b[0m\u001b[0mself\u001b[0m\u001b[0;34m.\u001b[0m\u001b[0mpipe_abort_read_r\u001b[0m\u001b[0;34m,\u001b[0m \u001b[0;36m1000\u001b[0m\u001b[0;34m)\u001b[0m\u001b[0;34m\u001b[0m\u001b[0;34m\u001b[0m\u001b[0m\n",
      "\u001b[0;31mKeyboardInterrupt\u001b[0m: "
     ]
    }
   ],
   "source": [
    "gsmgps = Gsm_GPS()"
   ]
  },
  {
   "cell_type": "code",
   "execution_count": null,
   "metadata": {},
   "outputs": [],
   "source": [
    "class Vl53_Radar:\n",
    "    def __init__(self):\n",
    "        self.i2c = busio.I2C(board.SCL, board.SDA)\n",
    "        self.vl53 = adafruit_vl53l0x.VL53L0X(self.i2c)\n",
    "        self.fig = plt.figure()\n",
    "        self.ax1 = fig.add_subplot(1,1,1)\n",
    "        self.xarr = []\n",
    "        self.yarr = []\n",
    "        self.count = 0\n",
    "\n",
    "    \n",
    "    def get_radar(self):\n",
    "        return self.vl53\n",
    "    \n",
    "    def get_radar_posicao(self):\n",
    "        return self.vl53.range / 10nro-"
   ]
  },
  {
   "cell_type": "code",
   "execution_count": null,
   "metadata": {},
   "outputs": [],
   "source": []
  },
  {
   "cell_type": "code",
   "execution_count": null,
   "metadata": {},
   "outputs": [],
   "source": []
  },
  {
   "cell_type": "code",
   "execution_count": null,
   "metadata": {},
   "outputs": [],
   "source": []
  },
  {
   "cell_type": "code",
   "execution_count": null,
   "metadata": {},
   "outputs": [],
   "source": []
  },
  {
   "cell_type": "code",
   "execution_count": null,
   "metadata": {},
   "outputs": [],
   "source": []
  },
  {
   "cell_type": "code",
   "execution_count": null,
   "metadata": {},
   "outputs": [],
   "source": [
    "#movimentação do servo motor\n",
    "\n",
    "class StepMotor:\n",
    "    def __init__(self, raspGPIO, radar):\n",
    "        self.controlPinEsquerda = [26,19,13,6]\n",
    "        self.controlPinDireita = [6,13,19,26]\n",
    "        self.posicoesMedicaRadar = [0,50, 100, 150, 200, 250, 299]\n",
    "        self.medicaoRadar=[]\n",
    "        self.raspGPIO = raspGPIO\n",
    "        self.posicao_final = 0 #Esquerda\n",
    "        \n",
    "        self.seq1 = [[1,0,0,0], \n",
    "               [1,1,0,0],\n",
    "               [0,1,0,0],\n",
    "               [0,1,1,0],\n",
    "               [0,0,1,0],\n",
    "               [0,0,1,1],\n",
    "               [0,0,0,1],\n",
    "               [1,0,0,1]]\n",
    "        self.seq2 = [\n",
    "                [1,0,0,1],\n",
    "                [1,0,0,0], \n",
    "                [1,1,0,0],\n",
    "                [0,1,0,0],\n",
    "                [0,1,1,0],\n",
    "                [0,0,1,0],\n",
    "                [0,0,1,1],\n",
    "                [0,0,0,1]]\n",
    "        self.parar_motor();\n",
    "\n",
    "    def parar_motor(self):\n",
    "        for pin in self.controlPinEsquerda:\n",
    "            raspGPIO.setup(pin, raspGPIO.OUT)\n",
    "            raspGPIO.output(pin, False)    \n",
    "    \n",
    "    def moverMotorEsquerda(self):\n",
    "        self.medicaoRadar=[]\n",
    "        for i in range(0, 300,1):\n",
    "            if i in self.posicoesMedicaRadar:\n",
    "                self.medicaoRadar.append(radar.get_radar_posicao())\n",
    "                        \n",
    "            for halfstep in range(8):\n",
    "                for pin in range(4):\n",
    "                    self.raspGPIO.output(self.controlPinEsquerda[pin], self.seq1[halfstep][pin])\n",
    "                    time.sleep(0.001)\n",
    "\n",
    "    def moverMotorDireita(self):\n",
    "        self.medicaoRadar=[]\n",
    "        for i in range(0,300,1):\n",
    "            if i in self.posicoesMedicaRadar:\n",
    "                self.medicaoRadar.append(radar.get_radar_posicao())\n",
    "            for halfstep in range(8):\n",
    "                for pin in range(4):\n",
    "                    self.raspGPIO.output(self.controlPinDireita[pin], self.seq1[halfstep][pin])\n",
    "                    time.sleep(0.001)\n",
    "    \n",
    "\n",
    "    def moverMotorDireita_ajuste(self, valor):\n",
    "        for i in range(0,valor,1):\n",
    "            for halfstep in range(8):\n",
    "                for pin in range(4):\n",
    "                    self.raspGPIO.output(self.controlPinDireita[pin], self.seq1[halfstep][pin])\n",
    "                    time.sleep(0.001)\n",
    "       \n",
    "    def moverMotorEsquerda_ajuste(self, valor):\n",
    "        for i in range(0, valor, 1):\n",
    "            for halfstep in range(8):\n",
    "                for pin in range(4):\n",
    "                    self.raspGPIO.output(self.controlPinEsquerda[pin], self.seq1[halfstep][pin])\n",
    "                    time.sleep(0.001)\n",
    "        \n",
    "    def get_posicoes_radar(self):\n",
    "        print(self.posicao_final)\n",
    "        if self.posicao_final == 0:\n",
    "            self.moverMotorEsquerda()\n",
    "            self.posicao_final = 1\n",
    "        else:\n",
    "            self.moverMotorDireita()\n",
    "            self.posicao_final = 0\n",
    "            self.medicaoRadar = self.medicaoRadar[::-1] \n",
    "            \n",
    "        return self.medicaoRadar"
   ]
  },
  {
   "cell_type": "code",
   "execution_count": null,
   "metadata": {},
   "outputs": [],
   "source": [
    "raspGPIO  = SetupGPIO().get_gpio()\n",
    "radar     = Vl53_Radar()\n",
    "stepMotor = StepMotor(raspGPIO, radar)"
   ]
  },
  {
   "cell_type": "code",
   "execution_count": null,
   "metadata": {},
   "outputs": [],
   "source": [
    "\n",
    "print(stepMotor.get_posicoes_radar())\n",
    "stepMotor.parar_motor()"
   ]
  },
  {
   "cell_type": "code",
   "execution_count": null,
   "metadata": {},
   "outputs": [],
   "source": [
    "stepMotor.moverMotorDireita_ajuste(100)    \n",
    "#stepMotor.moverMotorEsquerda_ajuste(10) \n",
    "# try:\n",
    "#   while True:\n",
    "#     p.ChangeDutyCycle(2.5)\n",
    "#     time.sleep(0.5)\n",
    "#     p.ChangeDutyCycle(5)\n",
    "#     time.sleep(0.5)\n",
    "#     p.ChangeDutyCycle(7.5)\n",
    "#     time.sleep(0.5)\n",
    "#     p.ChangeDutyCycle(10)\n",
    "#     time.sleep(0.5)\n",
    "#     p.ChangeDutyCycle(12.5)\n",
    "#     time.sleep(0.5)\n",
    "#     p.ChangeDutyCycle(10)\n",
    "#     time.sleep(0.5)\n",
    "#     p.ChangeDutyCycle(7.5)\n",
    "#     time.sleep(0.5)\n",
    "#     p.ChangeDutyCycle(5)\n",
    "#     time.sleep(0.5)  \n",
    "\n",
    "# except KeyboardInterrupt:\n",
    "#   p.stop()\n",
    "#   GPIO.cleanup()"
   ]
  },
  {
   "cell_type": "code",
   "execution_count": null,
   "metadata": {},
   "outputs": [],
   "source": []
  },
  {
   "cell_type": "code",
   "execution_count": null,
   "metadata": {},
   "outputs": [],
   "source": []
  }
 ],
 "metadata": {
  "kernelspec": {
   "display_name": "tcc",
   "language": "python",
   "name": "tcc"
  },
  "language_info": {
   "codemirror_mode": {
    "name": "ipython",
    "version": 3
   },
   "file_extension": ".py",
   "mimetype": "text/x-python",
   "name": "python",
   "nbconvert_exporter": "python",
   "pygments_lexer": "ipython3",
   "version": "3.7.3"
  }
 },
 "nbformat": 4,
 "nbformat_minor": 4
}
