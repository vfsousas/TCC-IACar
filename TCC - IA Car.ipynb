{
 "cells": [
  {
   "cell_type": "code",
   "execution_count": 51,
   "metadata": {
    "tags": []
   },
   "outputs": [
    {
     "output_type": "stream",
     "name": "stdout",
     "text": "Looking in indexes: https://pypi.org/simple, https://www.piwheels.org/simple\nRequirement already satisfied: Adafruit-Blinka in /home/pi/.virtualenvs/tcc/lib/python3.7/site-packages (5.4.0)\nRequirement already satisfied: Adafruit-PureIO>=1.1.5 in /home/pi/.virtualenvs/tcc/lib/python3.7/site-packages (from Adafruit-Blinka) (1.1.5)\nRequirement already satisfied: sysv-ipc in /home/pi/.virtualenvs/tcc/lib/python3.7/site-packages (from Adafruit-Blinka) (1.0.1)\nRequirement already satisfied: rpi-ws281x>=4.0.0 in /home/pi/.virtualenvs/tcc/lib/python3.7/site-packages (from Adafruit-Blinka) (4.2.4)\nRequirement already satisfied: Adafruit-PlatformDetect>=2.15.1 in /home/pi/.virtualenvs/tcc/lib/python3.7/site-packages (from Adafruit-Blinka) (2.17.0)\nCollecting RPi.GPIO\n  Using cached https://www.piwheels.org/simple/rpi-gpio/RPi.GPIO-0.7.0-cp37-cp37m-linux_armv7l.whl (69 kB)\nRequirement already satisfied: pyftdi>=0.40.0 in /home/pi/.virtualenvs/tcc/lib/python3.7/site-packages (from Adafruit-Blinka) (0.52.0)\nRequirement already satisfied: pyusb>=1.0.0 in /home/pi/.virtualenvs/tcc/lib/python3.7/site-packages (from pyftdi>=0.40.0->Adafruit-Blinka) (1.1.0)\nRequirement already satisfied: pyserial>=3.0 in /home/pi/.virtualenvs/tcc/lib/python3.7/site-packages (from pyftdi>=0.40.0->Adafruit-Blinka) (3.4)\nInstalling collected packages: RPi.GPIO\nSuccessfully installed RPi.GPIO-0.7.0\n\u001b[33mWARNING: You are using pip version 20.2; however, version 20.2.4 is available.\nYou should consider upgrading via the '/home/pi/.virtualenvs/tcc/bin/python -m pip install --upgrade pip' command.\u001b[0m\nLooking in indexes: https://pypi.org/simple, https://www.piwheels.org/simple\nRequirement already satisfied: adafruit-circuitpython-busdevice in /home/pi/.virtualenvs/tcc/lib/python3.7/site-packages (5.0.1)\nRequirement already satisfied: Adafruit-Blinka in /home/pi/.virtualenvs/tcc/lib/python3.7/site-packages (from adafruit-circuitpython-busdevice) (5.4.0)\nRequirement already satisfied: Adafruit-PlatformDetect>=2.15.1 in /home/pi/.virtualenvs/tcc/lib/python3.7/site-packages (from Adafruit-Blinka->adafruit-circuitpython-busdevice) (2.17.0)\nCollecting RPi.GPIO\n  Using cached https://www.piwheels.org/simple/rpi-gpio/RPi.GPIO-0.7.0-cp37-cp37m-linux_armv7l.whl (69 kB)\nRequirement already satisfied: rpi-ws281x>=4.0.0 in /home/pi/.virtualenvs/tcc/lib/python3.7/site-packages (from Adafruit-Blinka->adafruit-circuitpython-busdevice) (4.2.4)\nRequirement already satisfied: sysv-ipc in /home/pi/.virtualenvs/tcc/lib/python3.7/site-packages (from Adafruit-Blinka->adafruit-circuitpython-busdevice) (1.0.1)\nRequirement already satisfied: Adafruit-PureIO>=1.1.5 in /home/pi/.virtualenvs/tcc/lib/python3.7/site-packages (from Adafruit-Blinka->adafruit-circuitpython-busdevice) (1.1.5)\nRequirement already satisfied: pyftdi>=0.40.0 in /home/pi/.virtualenvs/tcc/lib/python3.7/site-packages (from Adafruit-Blinka->adafruit-circuitpython-busdevice) (0.52.0)\nRequirement already satisfied: pyusb>=1.0.0 in /home/pi/.virtualenvs/tcc/lib/python3.7/site-packages (from pyftdi>=0.40.0->Adafruit-Blinka->adafruit-circuitpython-busdevice) (1.1.0)\nRequirement already satisfied: pyserial>=3.0 in /home/pi/.virtualenvs/tcc/lib/python3.7/site-packages (from pyftdi>=0.40.0->Adafruit-Blinka->adafruit-circuitpython-busdevice) (3.4)\nInstalling collected packages: RPi.GPIO\nSuccessfully installed RPi.GPIO-0.7.0\n\u001b[33mWARNING: You are using pip version 20.2; however, version 20.2.4 is available.\nYou should consider upgrading via the '/home/pi/.virtualenvs/tcc/bin/python -m pip install --upgrade pip' command.\u001b[0m\nLooking in indexes: https://pypi.org/simple, https://www.piwheels.org/simple\nRequirement already satisfied: adafruit-circuitpython-vl53l0x in /home/pi/.virtualenvs/tcc/lib/python3.7/site-packages (3.3.3)\nRequirement already satisfied: Adafruit-Blinka in /home/pi/.virtualenvs/tcc/lib/python3.7/site-packages (from adafruit-circuitpython-vl53l0x) (5.4.0)\nRequirement already satisfied: adafruit-circuitpython-busdevice in /home/pi/.virtualenvs/tcc/lib/python3.7/site-packages (from adafruit-circuitpython-vl53l0x) (5.0.1)\nRequirement already satisfied: sysv-ipc in /home/pi/.virtualenvs/tcc/lib/python3.7/site-packages (from Adafruit-Blinka->adafruit-circuitpython-vl53l0x) (1.0.1)\nRequirement already satisfied: rpi-ws281x>=4.0.0 in /home/pi/.virtualenvs/tcc/lib/python3.7/site-packages (from Adafruit-Blinka->adafruit-circuitpython-vl53l0x) (4.2.4)\nRequirement already satisfied: Adafruit-PlatformDetect>=2.15.1 in /home/pi/.virtualenvs/tcc/lib/python3.7/site-packages (from Adafruit-Blinka->adafruit-circuitpython-vl53l0x) (2.17.0)\nRequirement already satisfied: pyftdi>=0.40.0 in /home/pi/.virtualenvs/tcc/lib/python3.7/site-packages (from Adafruit-Blinka->adafruit-circuitpython-vl53l0x) (0.52.0)\nRequirement already satisfied: Adafruit-PureIO>=1.1.5 in /home/pi/.virtualenvs/tcc/lib/python3.7/site-packages (from Adafruit-Blinka->adafruit-circuitpython-vl53l0x) (1.1.5)\nCollecting RPi.GPIO\n  Using cached https://www.piwheels.org/simple/rpi-gpio/RPi.GPIO-0.7.0-cp37-cp37m-linux_armv7l.whl (69 kB)\nRequirement already satisfied: pyusb>=1.0.0 in /home/pi/.virtualenvs/tcc/lib/python3.7/site-packages (from pyftdi>=0.40.0->Adafruit-Blinka->adafruit-circuitpython-vl53l0x) (1.1.0)\nRequirement already satisfied: pyserial>=3.0 in /home/pi/.virtualenvs/tcc/lib/python3.7/site-packages (from pyftdi>=0.40.0->Adafruit-Blinka->adafruit-circuitpython-vl53l0x) (3.4)\nInstalling collected packages: RPi.GPIO\nSuccessfully installed RPi.GPIO-0.7.0\n\u001b[33mWARNING: You are using pip version 20.2; however, version 20.2.4 is available.\nYou should consider upgrading via the '/home/pi/.virtualenvs/tcc/bin/python -m pip install --upgrade pip' command.\u001b[0m\nLooking in indexes: https://pypi.org/simple, https://www.piwheels.org/simple\nRequirement already satisfied: Adafruit-GPIO in /home/pi/.virtualenvs/tcc/lib/python3.7/site-packages (1.0.3)\nRequirement already satisfied: spidev in /home/pi/.virtualenvs/tcc/lib/python3.7/site-packages (from Adafruit-GPIO) (3.5)\nRequirement already satisfied: adafruit-pureio in /home/pi/.virtualenvs/tcc/lib/python3.7/site-packages (from Adafruit-GPIO) (1.1.5)\n\u001b[33mWARNING: You are using pip version 20.2; however, version 20.2.4 is available.\nYou should consider upgrading via the '/home/pi/.virtualenvs/tcc/bin/python -m pip install --upgrade pip' command.\u001b[0m\nLooking in indexes: https://pypi.org/simple, https://www.piwheels.org/simple\nRequirement already satisfied: Adafruit-PlatformDetect in /home/pi/.virtualenvs/tcc/lib/python3.7/site-packages (2.17.0)\n\u001b[33mWARNING: You are using pip version 20.2; however, version 20.2.4 is available.\nYou should consider upgrading via the '/home/pi/.virtualenvs/tcc/bin/python -m pip install --upgrade pip' command.\u001b[0m\nLooking in indexes: https://pypi.org/simple, https://www.piwheels.org/simple\nRequirement already satisfied: Adafruit-PureIO in /home/pi/.virtualenvs/tcc/lib/python3.7/site-packages (1.1.5)\n\u001b[33mWARNING: You are using pip version 20.2; however, version 20.2.4 is available.\nYou should consider upgrading via the '/home/pi/.virtualenvs/tcc/bin/python -m pip install --upgrade pip' command.\u001b[0m\nLooking in indexes: https://pypi.org/simple, https://www.piwheels.org/simple\nCollecting matplotlib\n  Downloading https://www.piwheels.org/simple/matplotlib/matplotlib-3.3.2-cp37-cp37m-linux_armv7l.whl (11.6 MB)\n\u001b[K     |████████████████████████████████| 11.6 MB 4.0 kB/s \n\u001b[?25hCollecting cycler>=0.10\n  Downloading cycler-0.10.0-py2.py3-none-any.whl (6.5 kB)\nRequirement already satisfied: numpy>=1.15 in /home/pi/.virtualenvs/tcc/lib/python3.7/site-packages (from matplotlib) (1.19.2)\nRequirement already satisfied: pyparsing!=2.0.4,!=2.1.2,!=2.1.6,>=2.0.3 in /home/pi/.virtualenvs/tcc/lib/python3.7/site-packages (from matplotlib) (2.4.7)\nRequirement already satisfied: python-dateutil>=2.1 in /home/pi/.virtualenvs/tcc/lib/python3.7/site-packages (from matplotlib) (2.8.1)\nCollecting pillow>=6.2.0\n  Downloading https://www.piwheels.org/simple/pillow/Pillow-8.0.1-cp37-cp37m-linux_armv7l.whl (1.3 MB)\n\u001b[K     |████████████████████████████████| 1.3 MB 692 kB/s \n\u001b[?25hCollecting kiwisolver>=1.0.1\n  Downloading https://www.piwheels.org/simple/kiwisolver/kiwisolver-1.2.0-cp37-cp37m-linux_armv7l.whl (1.5 MB)\n\u001b[K     |████████████████████████████████| 1.5 MB 734 kB/s \n\u001b[?25hCollecting certifi>=2020.06.20\n  Downloading certifi-2020.6.20-py2.py3-none-any.whl (156 kB)\n\u001b[K     |████████████████████████████████| 156 kB 1.9 MB/s \n\u001b[?25hRequirement already satisfied: six in /home/pi/.virtualenvs/tcc/lib/python3.7/site-packages (from cycler>=0.10->matplotlib) (1.15.0)\nInstalling collected packages: cycler, pillow, kiwisolver, certifi, matplotlib\nSuccessfully installed certifi-2020.6.20 cycler-0.10.0 kiwisolver-1.2.0 matplotlib-3.3.2 pillow-8.0.1\n\u001b[33mWARNING: You are using pip version 20.2; however, version 20.2.4 is available.\nYou should consider upgrading via the '/home/pi/.virtualenvs/tcc/bin/python -m pip install --upgrade pip' command.\u001b[0m\nLooking in indexes: https://pypi.org/simple, https://www.piwheels.org/simple\nRequirement already satisfied: numpy in /home/pi/.virtualenvs/tcc/lib/python3.7/site-packages (1.19.2)\n\u001b[33mWARNING: You are using pip version 20.2; however, version 20.2.4 is available.\nYou should consider upgrading via the '/home/pi/.virtualenvs/tcc/bin/python -m pip install --upgrade pip' command.\u001b[0m\n"
    }
   ],
   "source": [
    "!cat bibliotecas.txt | xargs -n 1 pip3 install"
   ]
  },
  {
   "cell_type": "code",
   "execution_count": 53,
   "metadata": {},
   "outputs": [],
   "source": [
    "#Importação de bibliotecas\n",
    "import RPi.GPIO as GPIO\n",
    "import time, copy\n",
    "import board, busio, adafruit_vl53l0x\n",
    "import serial\n",
    "import numpy as np"
   ]
  },
  {
   "cell_type": "code",
   "execution_count": 2,
   "metadata": {},
   "outputs": [],
   "source": [
    "#Setup das portas logicas do Raspibery PI\n",
    "class SetupGPIO:\n",
    "    def __init__(self):\n",
    "        self.objGPIO = GPIO\n",
    "        self.objGPIO.cleanup() # Liaaaaaaaaaaaaaaaaaaaaaaaaaaaaaaa/*****************************************************************************/********                 mpa todos os estados de todas as portas\n",
    "        self.objGPIO.setmode(GPIO.BCM) #Definindi uso dos numeros das portas por canais\n",
    "    \n",
    "    def get_gpio(self):\n",
    "        return self.objGPIO"
   ]
  },
  {
   "cell_type": "code",
   "execution_count": 17,
   "metadata": {},
   "outputs": [],
   "source": [
    "class Gsm_GPS:\n",
    "    def __init__(self):\n",
    "        self.port=serial.Serial(\"/dev/tty8\",baudrate=11500, timeout=5  )\n",
    "        self.port.flush()\n",
    "        self.habilita_gsm_gps()\n",
    "    \n",
    "    def habilita_gsm_gps(self):\n",
    "        self.port.write('AT\\r'.encode())\n",
    "        self.response()\n",
    "        self.port.write('AT+CSQ\\r'.encode())\n",
    "        self.response()\n",
    "        port.write('AT+CPIN?\\r')\n",
    "        response()\n",
    "    \n",
    "    def response(self):\n",
    "        responseCount = 0\n",
    "        while True:\n",
    "            resp = self.port.readline().decode()\n",
    "            print(resp)\n",
    "            print(responseCount)\n",
    "            if \"OK\" in resp:\n",
    "                break\n",
    "            if \"ERROR\" in resp:\n",
    "                break\n",
    "            if responseCount > 30:\n",
    "                break\n",
    "            else:\n",
    "                responseCount +=1"
   ]
  },
  {
   "cell_type": "code",
   "execution_count": 16,
   "metadata": {
    "tags": []
   },
   "outputs": [
    {
     "output_type": "error",
     "ename": "SerialException",
     "evalue": "[Errno 13] could not open port /dev/tty8: [Errno 13] Permission denied: '/dev/tty8'",
     "traceback": [
      "\u001b[0;31m---------------------------------------------------------------------------\u001b[0m",
      "\u001b[0;31mPermissionError\u001b[0m                           Traceback (most recent call last)",
      "\u001b[0;32m~/.virtualenvs/tcc/lib/python3.7/site-packages/serial/serialposix.py\u001b[0m in \u001b[0;36mopen\u001b[0;34m(self)\u001b[0m\n\u001b[1;32m    264\u001b[0m         \u001b[0;32mtry\u001b[0m\u001b[0;34m:\u001b[0m\u001b[0;34m\u001b[0m\u001b[0;34m\u001b[0m\u001b[0m\n\u001b[0;32m--> 265\u001b[0;31m             \u001b[0mself\u001b[0m\u001b[0;34m.\u001b[0m\u001b[0mfd\u001b[0m \u001b[0;34m=\u001b[0m \u001b[0mos\u001b[0m\u001b[0;34m.\u001b[0m\u001b[0mopen\u001b[0m\u001b[0;34m(\u001b[0m\u001b[0mself\u001b[0m\u001b[0;34m.\u001b[0m\u001b[0mportstr\u001b[0m\u001b[0;34m,\u001b[0m \u001b[0mos\u001b[0m\u001b[0;34m.\u001b[0m\u001b[0mO_RDWR\u001b[0m \u001b[0;34m|\u001b[0m \u001b[0mos\u001b[0m\u001b[0;34m.\u001b[0m\u001b[0mO_NOCTTY\u001b[0m \u001b[0;34m|\u001b[0m \u001b[0mos\u001b[0m\u001b[0;34m.\u001b[0m\u001b[0mO_NONBLOCK\u001b[0m\u001b[0;34m)\u001b[0m\u001b[0;34m\u001b[0m\u001b[0;34m\u001b[0m\u001b[0m\n\u001b[0m\u001b[1;32m    266\u001b[0m         \u001b[0;32mexcept\u001b[0m \u001b[0mOSError\u001b[0m \u001b[0;32mas\u001b[0m \u001b[0mmsg\u001b[0m\u001b[0;34m:\u001b[0m\u001b[0;34m\u001b[0m\u001b[0;34m\u001b[0m\u001b[0m\n",
      "\u001b[0;31mPermissionError\u001b[0m: [Errno 13] Permission denied: '/dev/tty8'",
      "\nDuring handling of the above exception, another exception occurred:\n",
      "\u001b[0;31mSerialException\u001b[0m                           Traceback (most recent call last)",
      "\u001b[0;32m<ipython-input-16-65742a0f92f3>\u001b[0m in \u001b[0;36m<module>\u001b[0;34m\u001b[0m\n\u001b[0;32m----> 1\u001b[0;31m \u001b[0mgsmgps\u001b[0m \u001b[0;34m=\u001b[0m \u001b[0mGsm_GPS\u001b[0m\u001b[0;34m(\u001b[0m\u001b[0;34m)\u001b[0m\u001b[0;34m\u001b[0m\u001b[0;34m\u001b[0m\u001b[0m\n\u001b[0m",
      "\u001b[0;32m<ipython-input-15-bf34d0ae40b7>\u001b[0m in \u001b[0;36m__init__\u001b[0;34m(self)\u001b[0m\n\u001b[1;32m      1\u001b[0m \u001b[0;32mclass\u001b[0m \u001b[0mGsm_GPS\u001b[0m\u001b[0;34m:\u001b[0m\u001b[0;34m\u001b[0m\u001b[0;34m\u001b[0m\u001b[0m\n\u001b[1;32m      2\u001b[0m     \u001b[0;32mdef\u001b[0m \u001b[0m__init__\u001b[0m\u001b[0;34m(\u001b[0m\u001b[0mself\u001b[0m\u001b[0;34m)\u001b[0m\u001b[0;34m:\u001b[0m\u001b[0;34m\u001b[0m\u001b[0;34m\u001b[0m\u001b[0m\n\u001b[0;32m----> 3\u001b[0;31m         \u001b[0mself\u001b[0m\u001b[0;34m.\u001b[0m\u001b[0mport\u001b[0m\u001b[0;34m=\u001b[0m\u001b[0mserial\u001b[0m\u001b[0;34m.\u001b[0m\u001b[0mSerial\u001b[0m\u001b[0;34m(\u001b[0m\u001b[0;34m\"/dev/tty8\"\u001b[0m\u001b[0;34m,\u001b[0m\u001b[0mbaudrate\u001b[0m\u001b[0;34m=\u001b[0m\u001b[0;36m11500\u001b[0m\u001b[0;34m,\u001b[0m \u001b[0mtimeout\u001b[0m\u001b[0;34m=\u001b[0m\u001b[0;36m5\u001b[0m  \u001b[0;34m)\u001b[0m\u001b[0;34m\u001b[0m\u001b[0;34m\u001b[0m\u001b[0m\n\u001b[0m\u001b[1;32m      4\u001b[0m         \u001b[0mself\u001b[0m\u001b[0;34m.\u001b[0m\u001b[0mport\u001b[0m\u001b[0;34m.\u001b[0m\u001b[0mflush\u001b[0m\u001b[0;34m(\u001b[0m\u001b[0;34m)\u001b[0m\u001b[0;34m\u001b[0m\u001b[0;34m\u001b[0m\u001b[0m\n\u001b[1;32m      5\u001b[0m         \u001b[0mself\u001b[0m\u001b[0;34m.\u001b[0m\u001b[0mhabilita_gsm_gps\u001b[0m\u001b[0;34m(\u001b[0m\u001b[0;34m)\u001b[0m\u001b[0;34m\u001b[0m\u001b[0;34m\u001b[0m\u001b[0m\n",
      "\u001b[0;32m~/.virtualenvs/tcc/lib/python3.7/site-packages/serial/serialutil.py\u001b[0m in \u001b[0;36m__init__\u001b[0;34m(self, port, baudrate, bytesize, parity, stopbits, timeout, xonxoff, rtscts, write_timeout, dsrdtr, inter_byte_timeout, exclusive, **kwargs)\u001b[0m\n\u001b[1;32m    238\u001b[0m \u001b[0;34m\u001b[0m\u001b[0m\n\u001b[1;32m    239\u001b[0m         \u001b[0;32mif\u001b[0m \u001b[0mport\u001b[0m \u001b[0;32mis\u001b[0m \u001b[0;32mnot\u001b[0m \u001b[0;32mNone\u001b[0m\u001b[0;34m:\u001b[0m\u001b[0;34m\u001b[0m\u001b[0;34m\u001b[0m\u001b[0m\n\u001b[0;32m--> 240\u001b[0;31m             \u001b[0mself\u001b[0m\u001b[0;34m.\u001b[0m\u001b[0mopen\u001b[0m\u001b[0;34m(\u001b[0m\u001b[0;34m)\u001b[0m\u001b[0;34m\u001b[0m\u001b[0;34m\u001b[0m\u001b[0m\n\u001b[0m\u001b[1;32m    241\u001b[0m \u001b[0;34m\u001b[0m\u001b[0m\n\u001b[1;32m    242\u001b[0m     \u001b[0;31m#  -  -  -  -  -  -  -  -  -  -  -  -  -  -  -  -  -  -  -  -  -  -  -  -\u001b[0m\u001b[0;34m\u001b[0m\u001b[0;34m\u001b[0m\u001b[0;34m\u001b[0m\u001b[0m\n",
      "\u001b[0;32m~/.virtualenvs/tcc/lib/python3.7/site-packages/serial/serialposix.py\u001b[0m in \u001b[0;36mopen\u001b[0;34m(self)\u001b[0m\n\u001b[1;32m    266\u001b[0m         \u001b[0;32mexcept\u001b[0m \u001b[0mOSError\u001b[0m \u001b[0;32mas\u001b[0m \u001b[0mmsg\u001b[0m\u001b[0;34m:\u001b[0m\u001b[0;34m\u001b[0m\u001b[0;34m\u001b[0m\u001b[0m\n\u001b[1;32m    267\u001b[0m             \u001b[0mself\u001b[0m\u001b[0;34m.\u001b[0m\u001b[0mfd\u001b[0m \u001b[0;34m=\u001b[0m \u001b[0;32mNone\u001b[0m\u001b[0;34m\u001b[0m\u001b[0;34m\u001b[0m\u001b[0m\n\u001b[0;32m--> 268\u001b[0;31m             \u001b[0;32mraise\u001b[0m \u001b[0mSerialException\u001b[0m\u001b[0;34m(\u001b[0m\u001b[0mmsg\u001b[0m\u001b[0;34m.\u001b[0m\u001b[0merrno\u001b[0m\u001b[0;34m,\u001b[0m \u001b[0;34m\"could not open port {}: {}\"\u001b[0m\u001b[0;34m.\u001b[0m\u001b[0mformat\u001b[0m\u001b[0;34m(\u001b[0m\u001b[0mself\u001b[0m\u001b[0;34m.\u001b[0m\u001b[0m_port\u001b[0m\u001b[0;34m,\u001b[0m \u001b[0mmsg\u001b[0m\u001b[0;34m)\u001b[0m\u001b[0;34m)\u001b[0m\u001b[0;34m\u001b[0m\u001b[0;34m\u001b[0m\u001b[0m\n\u001b[0m\u001b[1;32m    269\u001b[0m         \u001b[0;31m#~ fcntl.fcntl(self.fd, fcntl.F_SETFL, 0)  # set blocking\u001b[0m\u001b[0;34m\u001b[0m\u001b[0;34m\u001b[0m\u001b[0;34m\u001b[0m\u001b[0m\n\u001b[1;32m    270\u001b[0m \u001b[0;34m\u001b[0m\u001b[0m\n",
      "\u001b[0;31mSerialException\u001b[0m: [Errno 13] could not open port /dev/tty8: [Errno 13] Permission denied: '/dev/tty8'"
     ]
    }
   ],
   "source": [
    "#gsmgps = Gsm_GPS()"
   ]
  },
  {
   "cell_type": "code",
   "execution_count": 46,
   "metadata": {},
   "outputs": [],
   "source": [
    "#movimentação do servo motor\n",
    "\n",
    "class StepMotor:\n",
    "    def __init__(self, raspGPIO, radar):\n",
    "        self.controlPinEsquerda = [26,19,13,6]\n",
    "        self.controlPinDireita = [6,13,19,26]\n",
    "        self.posicoesMedicaRadar = [0,50, 100, 150, 200, 250, 299]\n",
    "        self.medicaoRadar=[]\n",
    "        self.raspGPIO = raspGPIO\n",
    "        self.posicao_final = 0 #Esquerda\n",
    "        \n",
    "        self.seq1 = [[1,0,0,0], \n",
    "               [1,1,0,0],\n",
    "               [0,1,0,0],\n",
    "               [0,1,1,0],\n",
    "               [0,0,1,0],\n",
    "               [0,0,1,1],\n",
    "               [0,0,0,1],\n",
    "               [1,0,0,1]]\n",
    "        self.seq2 = [\n",
    "                [1,0,0,1],\n",
    "                [1,0,0,0], \n",
    "                [1,1,0,0],\n",
    "                [0,1,0,0],\n",
    "                [0,1,1,0],\n",
    "                [0,0,1,0],\n",
    "                [0,0,1,1],\n",
    "                [0,0,0,1]]\n",
    "        self.parar_motor();\n",
    "\n",
    "    def parar_motor(self):\n",
    "        for pin in self.controlPinEsquerda:\n",
    "            raspGPIO.setup(pin, raspGPIO.OUT)\n",
    "            raspGPIO.output(pin, False)    \n",
    "    \n",
    "    def moverMotorEsquerda(self):\n",
    "        self.medicaoRadar=[]\n",
    "        for i in range(0, 300,1):\n",
    "            if i in self.posicoesMedicaRadar:\n",
    "                self.medicaoRadar.append(radar.get_radar_posicao())\n",
    "                        \n",
    "            for halfstep in range(8):\n",
    "                for pin in range(4):\n",
    "                    self.raspGPIO.output(self.controlPinEsquerda[pin], self.seq1[halfstep][pin])\n",
    "                    time.sleep(0.001)\n",
    "\n",
    "    def moverMotorDireita(self):\n",
    "        self.medicaoRadar=[]\n",
    "        for i in range(0,300,1):\n",
    "            if i in self.posicoesMedicaRadar:\n",
    "                self.medicaoRadar.append(radar.get_radar_posicao())\n",
    "            for halfstep in range(8):\n",
    "                for pin in range(4):\n",
    "                    self.raspGPIO.output(self.controlPinDireita[pin], self.seq1[halfstep][pin])\n",
    "                    time.sleep(0.001)\n",
    "    \n",
    "\n",
    "    def moverMotorDireita_ajuste(self, valor):\n",
    "        for i in range(0,valor,1):\n",
    "            for halfstep in range(8):\n",
    "                for pin in range(4):\n",
    "                    self.raspGPIO.output(self.controlPinDireita[pin], self.seq1[halfstep][pin])\n",
    "                    time.sleep(0.001)\n",
    "       \n",
    "    def moverMotorEsquerda_ajuste(self, valor):\n",
    "        for i in range(0, valor, 1):\n",
    "            for halfstep in range(8):\n",
    "                for pin in range(4):\n",
    "                    self.raspGPIO.output(self.controlPinEsquerda[pin], self.seq1[halfstep][pin])\n",
    "                    time.sleep(0.001)\n",
    "        \n",
    "    def get_posicoes_radar(self):\n",
    "        if self.posicao_final == 0:\n",
    "            self.moverMotorEsquerda()\n",
    "            self.posicao_final = 1\n",
    "        else:\n",
    "            self.moverMotorDireita()\n",
    "            self.posicao_final = 0\n",
    "            self.medicaoRadar = self.medicaoRadar[::-1] \n",
    "            \n",
    "        return self.medicaoRadar"
   ]
  },
  {
   "cell_type": "code",
   "execution_count": 47,
   "metadata": {},
   "outputs": [],
   "source": [
    "class Vl53_Radar:\n",
    "    def __init__(self):\n",
    "        self.i2c = busio.I2C(board.SCL, board.SDA)\n",
    "        self.vl53 = adafruit_vl53l0x.VL53L0X(self.i2c)\n",
    "        #self.fig = plt.figure()\n",
    "        #self.ax1 = fig.add_subplot(1,1,1)\n",
    "        #self.xarr = []\n",
    "        self.yarr = []\n",
    "        self.count = 0\n",
    "\n",
    "    \n",
    "    def get_radar(self):\n",
    "        return self.vl53\n",
    "    \n",
    "    def get_radar_posicao(self):\n",
    "        return int(self.vl53.range / 10)"
   ]
  },
  {
   "cell_type": "code",
   "execution_count": 48,
   "metadata": {},
   "outputs": [],
   "source": [
    "\n",
    "raspGPIO  = SetupGPIO().get_gpio()\n",
    "radar     = Vl53_Radar()\n",
    "stepMotor = StepMotor(raspGPIO, radar)"
   ]
  },
  {
   "cell_type": "code",
   "execution_count": 49,
   "metadata": {
    "tags": []
   },
   "outputs": [
    {
     "output_type": "stream",
     "name": "stdout",
     "text": "[87, 54, 54, 819, 819, 819, 50]\n[86, 52, 56, 819, 819, 39, 51]\n"
    }
   ],
   "source": [
    " for i in range(0,2,1):\n",
    "     try:\n",
    "        print(stepMotor.get_posicoes_radar())\n",
    "     finally:\n",
    "        stepMotor.parar_motor()\n"
   ]
  },
  {
   "cell_type": "code",
   "execution_count": 39,
   "metadata": {},
   "outputs": [],
   "source": [
    "class Hiperparametros():\n",
    "    def __init__(self):\n",
    "        self.steps = 1000\n",
    "        self.epsodes = 1000\n",
    "        self.lr = 0.02\n",
    "        self.directions = 6\n",
    "        self.best_directions = 6\n",
    "        assert self.best_directions <= self.directions\n",
    "        self.noise = 0.03\n",
    "        self.seed = 1\n",
    "        self.env_nome = ''\n"
   ]
  },
  {
   "cell_type": "code",
   "execution_count": 55,
   "metadata": {},
   "outputs": [],
   "source": [
    "#normalizacao dos estados (Standardization)\n",
    "class Normalizacao():\n",
    "    def __init__(self, inputs):\n",
    "        self.n = np.zeros(inputs)\n",
    "        self.mean = np.zeros(inputs)\n",
    "        self.mean_diff = np.zeros(inputs)\n",
    "        self.var = np.zeros(inputs)\n",
    "    \n",
    "    def observe(self, x):\n",
    "        self.n +=1.\n",
    "        last_mean = self.mean.copy()\n",
    "        self.mean += (x - self.mean) / self.n\n",
    "        self.mean_diff += (x - last_mean) * (x - self.mean)\n",
    "        self.var = (self.mean_diff/self.n).clip(min = 1e-2) #minino 0.01\n",
    "\n",
    "    def normalize(self, inputs):\n",
    "        obs_mean = self.mean\n",
    "        obs_std = np.sqrt(self.var)\n",
    "        return (inputs - obs_mean) / obs_std"
   ]
  },
  {
   "cell_type": "code",
   "execution_count": 2,
   "metadata": {},
   "outputs": [],
   "source": [
    "class Politicas():\n",
    "    def __init__(self, input_size, output_size):\n",
    "        self.theta = np.zeros((output_size, input_size))\n",
    "    \n",
    "    def evaluate(self, input, delta=None, direction=None):\n",
    "        if direction is None:\n",
    "            return self.theta.dot(input)\n",
    "        elif direction == 'positive':\n",
    "            return (self.theta + hp.noise * delta).dot(input)\n",
    "        else: \n",
    "            return (self.theta - hp.noise * delta).dot(input)\n",
    "    \n",
    "    def sample_deltas(self):\n",
    "        return [np.random.randn(*self.theta.shape) for _ in range(hp.directions)]\n",
    "    \n",
    "    def update(self, rollouts, sigma_r):\n",
    "        step = np.zeros(self.theta.shape)\n",
    "        for r_pos, r_neg, d in rollouts:\n",
    "            step == (r_pos - r_neg) * d\n",
    "        self.theta += hp.learning_rate / (hp.best_directions * sigma_r) * step"
   ]
  },
  {
   "cell_type": "code",
   "execution_count": 3,
   "metadata": {},
   "outputs": [],
   "source": [
    "def explore(env, normalizer, policy, direction = None, delta=None):\n",
    "    state = env.reset() #ler o ambiente radar\n",
    "    done = False\n",
    "    num_plays = 0.\n",
    "    sum_rewards = 0\n",
    "    while not done and num_plays < Hiperparametros.epsodes:\n",
    "       normalizer.observe(state)\n",
    "       state = normalizer.normalize(state)\n",
    "       action = policy.evaluate(state, delta, direction)\n",
    "       state. reward, done, _ = env.step(action) #aquifazer o agente se mover\n",
    "       reward = max(min(reward, 1), -1)#evita outlier nas recompensas\n",
    "       sum_rewards += reward\n",
    "       num_plays =+1\n",
    "    return sum_rewards\n"
   ]
  },
  {
   "cell_type": "code",
   "execution_count": 6,
   "metadata": {},
   "outputs": [],
   "source": [
    "#Treinando\n",
    "def train(env, policy, normalizer, hp):\n",
    "    for step in range(hp.steps):\n",
    "        #Inicializacao das pertubacoes (deltas) e as recompensas negativas e positivas)\n",
    "        deltas = policy.samples_deltas()\n",
    "        positive_rewards = [0] * hp.directions\n",
    "        negative_rewards = [0] * hp.directions\n",
    "\n",
    "        #obtendo as direcao positiva\n",
    "        for k in range(hp.directions):\n",
    "            positive_rewards[k] = explore(env, normalizer, policy, direction='positive', delta=deltas[k])\n",
    "\n",
    "        #obtendo recompensa na direcao negativa\n",
    "        for k in range(hp.directions):\n",
    "            positive_rewards[k] = explore(env, normalizer, policy,  direction='negative', delta=deltas[k])\n",
    "        \n",
    "        #obtendo todas as recompensas positivas e negativas para computar o desvio dessas recompensas\n",
    "        all_reward = np.array(positive_rewards + negative_rewards)\n",
    "        sigma_r = all_rewards.std()\n",
    "\n",
    "        #ordenacao dos rollouts e selecao das melhores direcoes\n",
    "        scores = {k: max(r_pos, r_neg) for k, (r_pos, r_neg) in enumerate(zip(positive_rewards, negative_rewards))}\n",
    "        order = sorted(scores.keys(), key=lambda x: scores[x], reverse=True)[:hp.best_directions]\n",
    "        rollouts = [(positive_rewards[k], negative_rewards[k], deltas [k]) for k in order]\n",
    "        #atualizacao de politica\n",
    "        policy.update(rollouts, sigma_r)\n",
    "\n",
    "        #impressao da recompensa\n",
    "        reward_evaluation = explore(env, normalizer, policy)\n",
    "        print('Step', step, 'Reward:',reward_evaluation )\n",
    "             "
   ]
  },
  {
   "cell_type": "code",
   "execution_count": null,
   "metadata": {},
   "outputs": [],
   "source": [
    " hp = Hiperparametros()\n",
    " np.random.seed(hp.seed)\n",
    "\n",
    "train(,,,hpkkkk dei)"
   ]
  }
 ],
 "metadata": {
  "kernelspec": {
   "display_name": "tcc",
   "language": "python",
   "name": "tcc"
  },
  "language_info": {
   "codemirror_mode": {
    "name": "ipython",
    "version": 3
   },
   "file_extension": ".py",
   "mimetype": "text/x-python",
   "name": "python",
   "nbconvert_exporter": "python",
   "pygments_lexer": "ipython3",
   "version": "3.7.3-final"
  }
 },
 "nbformat": 4,
 "nbformat_minor": 4
}